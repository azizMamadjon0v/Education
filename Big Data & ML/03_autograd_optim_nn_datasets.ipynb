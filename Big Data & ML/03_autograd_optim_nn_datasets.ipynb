{
 "cells": [
  {
   "cell_type": "code",
   "execution_count": 1,
   "metadata": {
    "id": "6ktSXdQVb9Li"
   },
   "outputs": [],
   "source": [
    "import torch\n",
    "import numpy as np\n",
    "from sklearn.datasets import make_regression\n",
    "import random\n",
    "import torch.optim as optim\n",
    "import torch.nn as nn\n",
    "import numpy as np\n",
    "import matplotlib.pyplot as plt\n",
    "from torch.utils.data import Dataset, DataLoader\n",
    "import pandas as pd\n",
    "from torch.utils.data import random_split\n",
    "import torch.optim as optim\n",
    "from torchsummary import summary\n",
    "from torchvision import transforms\n"
   ]
  },
  {
   "cell_type": "code",
   "execution_count": 2,
   "metadata": {
    "colab": {
     "base_uri": "https://localhost:8080/"
    },
    "id": "AtuSCEcTN2jA",
    "outputId": "2ad8d090-9e79-4824-e604-09f73b0fd7ed"
   },
   "outputs": [
    {
     "name": "stdout",
     "output_type": "stream",
     "text": [
      "Drive already mounted at /content/drive; to attempt to forcibly remount, call drive.mount(\"/content/drive\", force_remount=True).\n"
     ]
    }
   ],
   "source": [
    "from google.colab import drive\n",
    "drive.mount('/content/drive')"
   ]
  },
  {
   "cell_type": "markdown",
   "metadata": {
    "id": "4L7Inb1JbiDy"
   },
   "source": [
    "## 3.1 Автоматическое дифференцирование в `torch`"
   ]
  },
  {
   "cell_type": "markdown",
   "metadata": {
    "id": "HsZ69HZ0EsI7"
   },
   "source": [
    "3.1.1 Воспользовавшись классами `Neuron` и `SquaredLoss` из задачи 2.4.1 и автоматическим дифференцированием, которое предоставляет `torch`, решить задачу регрессии. Для оптимизации использовать стохастический градиетный спуск."
   ]
  },
  {
   "cell_type": "code",
   "execution_count": 3,
   "metadata": {
    "id": "zynPAaOrRKTm"
   },
   "outputs": [],
   "source": [
    "X, y, coef = make_regression(n_features=4, n_informative=4, coef=True, bias=0.5)\n",
    "X = torch.from_numpy(X).to(dtype=torch.float32)\n",
    "y = torch.from_numpy(y).to(dtype=torch.float32)"
   ]
  },
  {
   "cell_type": "code",
   "execution_count": 4,
   "metadata": {
    "id": "cEGf4VcQP7zY"
   },
   "outputs": [],
   "source": [
    "class SquaredLoss:\n",
    "  def forward(self, y_pred, y_true):\n",
    "    self.y_pred = torch.tensor(y_pred, requires_grad=True)\n",
    "    self.z = (self.y_pred - y_true) ** 2\n",
    "    return self.z\n",
    "\n",
    "  def backward(self):\n",
    "    self.z.backward()\n",
    "    self.dinput =  self.y_pred.grad"
   ]
  },
  {
   "cell_type": "code",
   "execution_count": 5,
   "metadata": {
    "id": "SkKvrnrzWez_"
   },
   "outputs": [],
   "source": [
    "class Neuron:\n",
    "  def __init__(self, n_inputs):\n",
    "    self.n_inputs = n_inputs\n",
    "    self.weights = torch.randn(n_inputs)\n",
    "    self.bias = torch.randn(1)\n",
    "  \n",
    "  def forward(self, input):\n",
    "    self.input = input\n",
    "    return torch.dot(self.weights, input) + self.bias\n",
    "  \n",
    "  def backward(self, dvalue):\n",
    "    # dvalue - значение производной, которое приходит нейрону от следующего слоя сети\n",
    "    # в данном случае это будет значение df/dc (созданное методом backwards у объекта MSELoss) - по сути производная ошибки dE\n",
    "    self.dweights = dvalue * self.input # df/dW\n",
    "    self.dinput =  dvalue * self.weights # df/wX\n",
    "    self.dbias = dvalue # df/db"
   ]
  },
  {
   "cell_type": "code",
   "execution_count": 6,
   "metadata": {
    "colab": {
     "base_uri": "https://localhost:8080/"
    },
    "id": "M1m6LBQtWh5m",
    "outputId": "7f3588f7-e969-491f-a613-09621bfc1a03"
   },
   "outputs": [
    {
     "name": "stdout",
     "output_type": "stream",
     "text": [
      "epoch 0 mean loss tensor([15136.0029], grad_fn=<DivBackward0>)\n",
      "epoch 1 mean loss tensor([9268.2432], grad_fn=<DivBackward0>)\n",
      "epoch 2 mean loss tensor([7495.3950], grad_fn=<DivBackward0>)\n",
      "epoch 3 mean loss tensor([6178.3389], grad_fn=<DivBackward0>)\n",
      "epoch 4 mean loss tensor([5048.8018], grad_fn=<DivBackward0>)\n",
      "epoch 5 mean loss tensor([4257.2593], grad_fn=<DivBackward0>)"
     ]
    },
    {
     "name": "stderr",
     "output_type": "stream",
     "text": [
      "<ipython-input-4-c53ef009eda7>:3: UserWarning: To copy construct from a tensor, it is recommended to use sourceTensor.clone().detach() or sourceTensor.clone().detach().requires_grad_(True), rather than torch.tensor(sourceTensor).\n",
      "  self.y_pred = torch.tensor(y_pred, requires_grad=True)\n"
     ]
    },
    {
     "name": "stdout",
     "output_type": "stream",
     "text": [
      "\n",
      "epoch 6 mean loss tensor([3683.3684], grad_fn=<DivBackward0>)\n",
      "epoch 7 mean loss tensor([3232.4138], grad_fn=<DivBackward0>)\n",
      "epoch 8 mean loss tensor([2878.0017], grad_fn=<DivBackward0>)\n",
      "epoch 9 mean loss tensor([2595.8506], grad_fn=<DivBackward0>)\n",
      "epoch 10 mean loss tensor([2362.1504], grad_fn=<DivBackward0>)\n",
      "epoch 11 mean loss tensor([2166.2400], grad_fn=<DivBackward0>)\n",
      "epoch 12 mean loss tensor([2000.0544], grad_fn=<DivBackward0>)\n",
      "epoch 13 mean loss tensor([1857.3861], grad_fn=<DivBackward0>)\n",
      "epoch 14 mean loss tensor([1733.6553], grad_fn=<DivBackward0>)\n",
      "epoch 15 mean loss tensor([1625.3522], grad_fn=<DivBackward0>)\n",
      "epoch 16 mean loss tensor([1529.7549], grad_fn=<DivBackward0>)\n",
      "epoch 17 mean loss tensor([1444.7736], grad_fn=<DivBackward0>)\n",
      "epoch 18 mean loss tensor([1368.7360], grad_fn=<DivBackward0>)\n",
      "epoch 19 mean loss tensor([1300.3018], grad_fn=<DivBackward0>)\n",
      "epoch 20 mean loss tensor([1238.3834], grad_fn=<DivBackward0>)\n",
      "epoch 21 mean loss tensor([1182.0939], grad_fn=<DivBackward0>)\n",
      "epoch 22 mean loss tensor([1130.6985], grad_fn=<DivBackward0>)\n",
      "epoch 23 mean loss tensor([1083.5861], grad_fn=<DivBackward0>)\n",
      "epoch 24 mean loss tensor([1040.2427], grad_fn=<DivBackward0>)\n",
      "epoch 25 mean loss tensor([1000.2333], grad_fn=<DivBackward0>)\n",
      "epoch 26 mean loss tensor([963.1876], grad_fn=<DivBackward0>)\n",
      "epoch 27 mean loss tensor([928.7881], grad_fn=<DivBackward0>)\n",
      "epoch 28 mean loss tensor([896.7609], grad_fn=<DivBackward0>)\n",
      "epoch 29 mean loss tensor([866.8688], grad_fn=<DivBackward0>)\n",
      "epoch 30 mean loss tensor([838.9053], grad_fn=<DivBackward0>)\n",
      "epoch 31 mean loss tensor([812.6896], grad_fn=<DivBackward0>)\n",
      "epoch 32 mean loss tensor([788.0626], grad_fn=<DivBackward0>)\n",
      "epoch 33 mean loss tensor([764.8843], grad_fn=<DivBackward0>)\n",
      "epoch 34 mean loss tensor([743.0305], grad_fn=<DivBackward0>)\n",
      "epoch 35 mean loss tensor([722.3907], grad_fn=<DivBackward0>)\n",
      "epoch 36 mean loss tensor([702.8666], grad_fn=<DivBackward0>)\n",
      "epoch 37 mean loss tensor([684.3702], grad_fn=<DivBackward0>)\n",
      "epoch 38 mean loss tensor([666.8222], grad_fn=<DivBackward0>)\n",
      "epoch 39 mean loss tensor([650.1516], grad_fn=<DivBackward0>)\n",
      "epoch 40 mean loss tensor([634.2943], grad_fn=<DivBackward0>)\n",
      "epoch 41 mean loss tensor([619.1920], grad_fn=<DivBackward0>)\n",
      "epoch 42 mean loss tensor([604.7922], grad_fn=<DivBackward0>)\n",
      "epoch 43 mean loss tensor([591.0469], grad_fn=<DivBackward0>)\n",
      "epoch 44 mean loss tensor([577.9126], grad_fn=<DivBackward0>)\n",
      "epoch 45 mean loss tensor([565.3492], grad_fn=<DivBackward0>)\n",
      "epoch 46 mean loss tensor([553.3206], grad_fn=<DivBackward0>)\n",
      "epoch 47 mean loss tensor([541.7930], grad_fn=<DivBackward0>)\n",
      "epoch 48 mean loss tensor([530.7360], grad_fn=<DivBackward0>)\n",
      "epoch 49 mean loss tensor([520.1213], grad_fn=<DivBackward0>)\n",
      "epoch 50 mean loss tensor([509.9229], grad_fn=<DivBackward0>)\n",
      "epoch 51 mean loss tensor([500.1166], grad_fn=<DivBackward0>)\n",
      "epoch 52 mean loss tensor([490.6805], grad_fn=<DivBackward0>)\n",
      "epoch 53 mean loss tensor([481.5938], grad_fn=<DivBackward0>)\n",
      "epoch 54 mean loss tensor([472.8376], grad_fn=<DivBackward0>)\n",
      "epoch 55 mean loss tensor([464.3940], grad_fn=<DivBackward0>)\n",
      "epoch 56 mean loss tensor([456.2468], grad_fn=<DivBackward0>)\n",
      "epoch 57 mean loss tensor([448.3804], grad_fn=<DivBackward0>)\n",
      "epoch 58 mean loss tensor([440.7808], grad_fn=<DivBackward0>)\n",
      "epoch 59 mean loss tensor([433.4344], grad_fn=<DivBackward0>)\n",
      "epoch 60 mean loss tensor([426.3289], grad_fn=<DivBackward0>)\n",
      "epoch 61 mean loss tensor([419.4527], grad_fn=<DivBackward0>)\n",
      "epoch 62 mean loss tensor([412.7947], grad_fn=<DivBackward0>)\n",
      "epoch 63 mean loss tensor([406.3448], grad_fn=<DivBackward0>)\n",
      "epoch 64 mean loss tensor([400.0933], grad_fn=<DivBackward0>)\n",
      "epoch 65 mean loss tensor([394.0313], grad_fn=<DivBackward0>)\n",
      "epoch 66 mean loss tensor([388.1502], grad_fn=<DivBackward0>)\n",
      "epoch 67 mean loss tensor([382.4421], grad_fn=<DivBackward0>)\n",
      "epoch 68 mean loss tensor([376.8995], grad_fn=<DivBackward0>)\n",
      "epoch 69 mean loss tensor([371.5152], grad_fn=<DivBackward0>)\n",
      "epoch 70 mean loss tensor([366.2826], grad_fn=<DivBackward0>)\n",
      "epoch 71 mean loss tensor([361.1953], grad_fn=<DivBackward0>)\n",
      "epoch 72 mean loss tensor([356.2475], grad_fn=<DivBackward0>)\n",
      "epoch 73 mean loss tensor([351.4333], grad_fn=<DivBackward0>)\n",
      "epoch 74 mean loss tensor([346.7475], grad_fn=<DivBackward0>)\n",
      "epoch 75 mean loss tensor([342.1851], grad_fn=<DivBackward0>)\n",
      "epoch 76 mean loss tensor([337.7411], grad_fn=<DivBackward0>)\n",
      "epoch 77 mean loss tensor([333.4111], grad_fn=<DivBackward0>)\n",
      "epoch 78 mean loss tensor([329.1907], grad_fn=<DivBackward0>)\n",
      "epoch 79 mean loss tensor([325.0758], grad_fn=<DivBackward0>)\n",
      "epoch 80 mean loss tensor([321.0625], grad_fn=<DivBackward0>)\n",
      "epoch 81 mean loss tensor([317.1472], grad_fn=<DivBackward0>)\n",
      "epoch 82 mean loss tensor([313.3261], grad_fn=<DivBackward0>)\n",
      "epoch 83 mean loss tensor([309.5960], grad_fn=<DivBackward0>)\n",
      "epoch 84 mean loss tensor([305.9537], grad_fn=<DivBackward0>)\n",
      "epoch 85 mean loss tensor([302.3961], grad_fn=<DivBackward0>)\n",
      "epoch 86 mean loss tensor([298.9203], grad_fn=<DivBackward0>)\n",
      "epoch 87 mean loss tensor([295.5235], grad_fn=<DivBackward0>)\n",
      "epoch 88 mean loss tensor([292.2030], grad_fn=<DivBackward0>)\n",
      "epoch 89 mean loss tensor([288.9563], grad_fn=<DivBackward0>)\n",
      "epoch 90 mean loss tensor([285.7809], grad_fn=<DivBackward0>)\n",
      "epoch 91 mean loss tensor([282.6746], grad_fn=<DivBackward0>)\n",
      "epoch 92 mean loss tensor([279.6351], grad_fn=<DivBackward0>)\n",
      "epoch 93 mean loss tensor([276.6603], grad_fn=<DivBackward0>)\n",
      "epoch 94 mean loss tensor([273.7480], grad_fn=<DivBackward0>)\n",
      "epoch 95 mean loss tensor([270.8965], grad_fn=<DivBackward0>)\n",
      "epoch 96 mean loss tensor([268.1038], grad_fn=<DivBackward0>)\n",
      "epoch 97 mean loss tensor([265.3680], grad_fn=<DivBackward0>)\n",
      "epoch 98 mean loss tensor([262.6875], grad_fn=<DivBackward0>)\n",
      "epoch 99 mean loss tensor([260.0607], grad_fn=<DivBackward0>)\n"
     ]
    }
   ],
   "source": [
    "n_inputs = 4 # <размерность элемента выборки >\n",
    "lr = 0.01 #  скорость обучения\n",
    "n_epoch = 100 #  количество эпох\n",
    "\n",
    "neuron = Neuron(n_inputs)\n",
    "loss = SquaredLoss()\n",
    "\n",
    "losses = []\n",
    "for epoch in range(100):\n",
    "  for x_example, y_example in random.sample(list(zip(X, y)), 20):\n",
    "    # forward pass\n",
    "    y_pred = neuron.forward(x_example) # <прогон через нейрон>\n",
    "    curr_loss = loss.forward(y_pred, y_example) # <прогон через функцию потерь>\n",
    "    losses.append(curr_loss)\n",
    "\n",
    "    # backprop\n",
    "    loss.backward()\n",
    "    neuron.backward(loss.dinput)\n",
    "    # градиентный спуск\n",
    "    neuron.weights -= lr * neuron.dweights\n",
    "    neuron.bias -= lr * neuron.dbias\n",
    "  print(f'epoch {epoch} mean loss {sum(losses) / len(losses)}')\n",
    "    # <вызов методов backward>\n",
    "    # обратите внимание на последовательность вызовов: от конца к началу\n",
    "\n",
    "    # <шаг оптимизации для весов (weights и bias) нейрона>"
   ]
  },
  {
   "cell_type": "markdown",
   "metadata": {
    "id": "wxWeyJw5lAqU"
   },
   "source": [
    "3.1.2 Воспользовавшись классами `Linear` и `MSELoss` из задачи 2.1.4 и 2.3.1, `ReLU` из 2.2.1 и автоматическим дифференцированием, которое предоставляет `torch`, решить задачу регрессии. Для оптимизации использовать пакетный градиентный спуск. Вывести график функции потерь в зависимости от номера эпохи. Вывести на одном графике исходные данные и предсказанные значения."
   ]
  },
  {
   "cell_type": "code",
   "execution_count": 7,
   "metadata": {
    "id": "bnlAt1NEQoat"
   },
   "outputs": [],
   "source": [
    "X = torch.linspace(0, 1, 100).view(-1, 1)\n",
    "y = torch.sin(2 * np.pi * X) + 0.1 * torch.rand(X.size()) "
   ]
  },
  {
   "cell_type": "markdown",
   "metadata": {
    "id": "nifm0FVB2y5N"
   },
   "source": [
    "## 3.2 Алгоритмы оптимизации в `torch.optim`"
   ]
  },
  {
   "cell_type": "markdown",
   "metadata": {
    "id": "0oBFfJpmcwfn"
   },
   "source": [
    "3.2.1 Решить задачу 3.1.1, воспользовавшись оптимизатором `optim.SDG` для применения стохастического градиентого спуска"
   ]
  },
  {
   "cell_type": "markdown",
   "metadata": {
    "id": "1LFAacdy46bX"
   },
   "source": [
    "3.2.2 Решить задачу 3.1.2, воспользовавшись оптимизатором `optim.Adam` для применения пакетного градиентого спуска. Вывести график функции потерь в зависимости от номера эпохи. Вывести на одном графике исходные данные и предсказанные значения."
   ]
  },
  {
   "cell_type": "markdown",
   "metadata": {
    "id": "n-qUqdALiN-G"
   },
   "source": [
    "## 3.3 Построение сетей при помощи `torch.nn`"
   ]
  },
  {
   "cell_type": "markdown",
   "metadata": {
    "id": "M0ICJtarif3_"
   },
   "source": [
    "3.3.1 Решить задачу регрессии, соблюдая следующие условия:\n",
    "\n",
    "1. Оформить нейронную сеть в виде класса - наследника `nn.Module`\n",
    "2. При создании сети использовать готовые блоки из `torch.nn`: слои, функции активации, функции потерь и т.д.\n",
    "3. Для оптимизации использовать любой алгоритм оптимизации из `torch.optim` "
   ]
  },
  {
   "cell_type": "code",
   "execution_count": 8,
   "metadata": {
    "id": "L1bvXHhO7aWs"
   },
   "outputs": [],
   "source": [
    "X = torch.linspace(0, 1, 100).view(-1, 1)\n",
    "# можно поэкспериментировать с коэф 0.1\n",
    "y = torch.sin(2 * np.pi * X) + 0.1 * torch.rand(X.size()) "
   ]
  },
  {
   "cell_type": "code",
   "execution_count": 9,
   "metadata": {
    "id": "Vu91-VWHIoTT"
   },
   "outputs": [],
   "source": [
    "class SineNet(torch.nn.Module):\n",
    "    def __init__(self, n_hidden_neurons):\n",
    "        super(SineNet, self).__init__()\n",
    "        self.fc1 = torch.nn.Linear(1, n_hidden_neurons)\n",
    "        # поэкспериментировать с другиями функциями активации\n",
    "        self.act1 = torch.nn.Sigmoid()\n",
    "        self.fc2 = torch.nn.Linear(n_hidden_neurons, 1)\n",
    "\n",
    "    def forward(self, x):\n",
    "        x = self.fc1(x)\n",
    "        x = self.act1(x)\n",
    "        x = self.fc2(x)\n",
    "        return x\n",
    "\n",
    "sine_net = SineNet(50)"
   ]
  },
  {
   "cell_type": "code",
   "execution_count": 10,
   "metadata": {
    "colab": {
     "base_uri": "https://localhost:8080/",
     "height": 354
    },
    "id": "yS4CiLflIqrK",
    "outputId": "c45d5162-6951-430a-b25d-02ed7f77e2b5"
   },
   "outputs": [
    {
     "data": {
      "image/png": "[encoded data removed]",
      "text/plain": [
       "<Figure size 1000x500 with 1 Axes>"
      ]
     },
     "metadata": {},
     "output_type": "display_data"
    }
   ],
   "source": [
    "def predict(net, X, y):\n",
    "    y_pred = net.forward(X)\n",
    "\n",
    "    plt.figure(figsize=(10, 5))\n",
    "    plt.plot(X.numpy(), y.numpy(), 'o', label='Groud truth')\n",
    "    plt.plot(X.numpy(), y_pred.data.numpy(), 'o', c='r', label='Prediction');\n",
    "    plt.legend(loc='upper left')\n",
    "    plt.xlabel('$X$')\n",
    "    plt.ylabel('$y$')\n",
    "\n",
    "predict(sine_net, X, y)"
   ]
  },
  {
   "cell_type": "code",
   "execution_count": 11,
   "metadata": {
    "id": "-Fesrk8OIsoq"
   },
   "outputs": [],
   "source": [
    "optimizer = torch.optim.Adam(sine_net.parameters(), lr=0.01)\n",
    "criterion = torch.nn.MSELoss(reduction='sum')"
   ]
  },
  {
   "cell_type": "code",
   "execution_count": 12,
   "metadata": {
    "colab": {
     "base_uri": "https://localhost:8080/",
     "height": 354
    },
    "id": "E1l_eGDxIwY6",
    "outputId": "49f39bfc-75de-4ded-a6b9-a35c2696a3da"
   },
   "outputs": [
    {
     "data": {
      "image/png": "[encoded data removed]",
      "text/plain": [
       "<Figure size 1000x500 with 1 Axes>"
      ]
     },
     "metadata": {},
     "output_type": "display_data"
    }
   ],
   "source": [
    "for epoch_index in range(1000):\n",
    "    optimizer.zero_grad()\n",
    "\n",
    "    y_pred = sine_net.forward(X)\n",
    "    loss_val = criterion.forward(y_pred, y)\n",
    "\n",
    "    loss_val.backward()\n",
    "\n",
    "    optimizer.step()\n",
    "\n",
    "predict(sine_net, X, y)"
   ]
  },
  {
   "cell_type": "markdown",
   "metadata": {
    "id": "UPUW6fm5jbQd"
   },
   "source": [
    "3.3.2 Решить задачу регрессии, соблюдая следующие условия:\n",
    "\n",
    "1. Оформить нейронную сеть в виде объекта `nn.Sequential`\n",
    "2. При создании сети использовать готовые блоки из `torch.nn`: слои, функции активации, функции потерь и т.д.\n",
    "3. Для оптимизации использовать любой алгоритм оптимизации из `torch.optim` "
   ]
  },
  {
   "cell_type": "code",
   "execution_count": 13,
   "metadata": {
    "id": "BBwbAEd57a2r"
   },
   "outputs": [],
   "source": [
    "X = torch.linspace(0, 1, 100).view(-1, 1)\n",
    "y = torch.sin(2 * np.pi * X) + 0.1 * torch.rand(X.size()) "
   ]
  },
  {
   "cell_type": "code",
   "execution_count": 14,
   "metadata": {
    "id": "8zDEPtrpNgXs"
   },
   "outputs": [],
   "source": [
    "model = nn.Sequential(\n",
    "  nn.Linear(1, 42),\n",
    "  nn.ReLU(),\n",
    "  nn.Linear(42, 1)\n",
    ")"
   ]
  },
  {
   "cell_type": "code",
   "execution_count": 15,
   "metadata": {
    "id": "ceEV3uFwNfVX"
   },
   "outputs": [],
   "source": [
    "optimizer = torch.optim.Adam(model.parameters(), lr=1e-3)\n",
    "criterion = nn.MSELoss(reduction='sum')"
   ]
  },
  {
   "cell_type": "code",
   "execution_count": 16,
   "metadata": {
    "colab": {
     "base_uri": "https://localhost:8080/",
     "height": 350
    },
    "id": "AUrBQLWkNkDG",
    "outputId": "34476498-b835-47e4-d5f7-3ef452907e98"
   },
   "outputs": [
    {
     "data": {
      "image/png": "[encoded data removed]",
      "text/plain": [
       "<Figure size 1000x500 with 1 Axes>"
      ]
     },
     "metadata": {},
     "output_type": "display_data"
    }
   ],
   "source": [
    "for epoch_index in range(10000):\n",
    "\n",
    "    y_pred = model(X)\n",
    "    loss_val = criterion(y_pred, y)\n",
    "\n",
    "    optimizer.zero_grad()\n",
    "    loss_val.backward()\n",
    "\n",
    "    optimizer.step()\n",
    "\n",
    "predict(model, X, y)"
   ]
  },
  {
   "cell_type": "markdown",
   "metadata": {
    "id": "jQj0oVeLj2A1"
   },
   "source": [
    "## 3.4. Datasets and dataloaders"
   ]
  },
  {
   "cell_type": "markdown",
   "metadata": {
    "id": "hoFPckkp8yhz"
   },
   "source": [
    "3.4.1 Создать датасет, поставляющий данные из задачи 3.1.2. \n",
    "\n",
    "Создать `DataLoader` на основе этого датасета и проверить работоспособность.\n",
    "\n",
    "Воспользовавшись результатами 3.3.1 (или 3.3.2) обучите модель, пользуясь мини-пакетным градиентным спуском с размером пакета (`batch_size`) = 10"
   ]
  },
  {
   "cell_type": "code",
   "execution_count": 17,
   "metadata": {
    "id": "pp8QfOS8Nola"
   },
   "outputs": [],
   "source": [
    "X = torch.linspace(0, 1, 100).view(-1, 1)\n",
    "y = torch.sin(2 * np.pi * X) + 0.1 * torch.rand(X.size())"
   ]
  },
  {
   "cell_type": "code",
   "execution_count": 18,
   "metadata": {
    "id": "tlcwQzCFRvFc"
   },
   "outputs": [],
   "source": [
    "class SinDataset(Dataset):\n",
    "  def __init__(self, x_data, y_data):\n",
    "    super(Dataset, self).__init__()\n",
    "    self.x_data = x_data\n",
    "    self.y_data = y_data\n",
    "    self.len = len(self.x_data)\n",
    "\n",
    "  def __len__(self):\n",
    "    return self.len\n",
    "\n",
    "  def __getitem__(self, idx):\n",
    "    return self.x_data[idx], self.y_data[idx]"
   ]
  },
  {
   "cell_type": "code",
   "execution_count": 19,
   "metadata": {
    "id": "K4blKqwHNu3u"
   },
   "outputs": [],
   "source": [
    "class SineNet(torch.nn.Module):\n",
    "    def __init__(self, n_hidden_neurons):\n",
    "        super(SineNet, self).__init__()\n",
    "        self.fc1 = torch.nn.Linear(1, n_hidden_neurons)\n",
    "        self.act1 = torch.nn.Sigmoid()\n",
    "        self.fc2 = torch.nn.Linear(n_hidden_neurons, 1)\n",
    "\n",
    "    def forward(self, x):\n",
    "        x = self.fc1(x)\n",
    "        x = self.act1(x)\n",
    "        x = self.fc2(x)\n",
    "        return x\n",
    "\n",
    "sine_net = SineNet(50)"
   ]
  },
  {
   "cell_type": "code",
   "execution_count": 20,
   "metadata": {
    "id": "4hH9Io-ANwZ2"
   },
   "outputs": [],
   "source": [
    "model = nn.Sequential(\n",
    "  nn.Linear(1, 42),\n",
    "  nn.ReLU(),\n",
    "  nn.Linear(42, 1)\n",
    ")\n",
    "criterion = nn.MSELoss(reduction='sum')\n",
    "optimizer = torch.optim.Adam(model.parameters(), lr=1e-2)"
   ]
  },
  {
   "cell_type": "code",
   "execution_count": 21,
   "metadata": {
    "id": "vWFQlvpdNxbk"
   },
   "outputs": [],
   "source": [
    "data = SinDataset(X, y)\n",
    "data_loader = DataLoader(data, batch_size=10, shuffle=True)"
   ]
  },
  {
   "cell_type": "code",
   "execution_count": 22,
   "metadata": {
    "colab": {
     "base_uri": "https://localhost:8080/",
     "height": 354
    },
    "id": "XGg8SiSMNy1-",
    "outputId": "2232c28a-3b63-40a3-a3ce-c40b3c0c9666"
   },
   "outputs": [
    {
     "data": {
      "image/png": "[encoded data removed]",
      "text/plain": [
       "<Figure size 1000x500 with 1 Axes>"
      ]
     },
     "metadata": {},
     "output_type": "display_data"
    }
   ],
   "source": [
    "for i in range(1000):\n",
    "    for batch, dt in enumerate(data_loader):\n",
    "        X_mini, y_mini = dt\n",
    "        pred = model(X_mini)\n",
    "        l = criterion(pred, y_mini)\n",
    "        \n",
    "        optimizer.zero_grad()\n",
    "        l.backward()\n",
    "        optimizer.step()\n",
    "\n",
    "predict(model, X, y)"
   ]
  },
  {
   "cell_type": "markdown",
   "metadata": {
    "id": "bxz02a3k_VQL"
   },
   "source": [
    "3.4.2 Предсказание цен алмазов\n",
    "\n",
    "3.4.2.1 Создайте датасет на основе файла diamonds.csv. \n",
    "\n",
    "1. Удалите все нечисловые столбцы\n",
    "2. Целевой столбец (`y`) - `price`\n",
    "3. Преобразуйте данные в тензоры корректных размеров\n",
    "\n"
   ]
  },
  {
   "cell_type": "code",
   "execution_count": 23,
   "metadata": {
    "colab": {
     "base_uri": "https://localhost:8080/",
     "height": 423
    },
    "id": "JngbGzPsOemJ",
    "outputId": "6cce1d2b-a9fe-430b-e924-679ff116e9cb"
   },
   "outputs": [
    {
     "data": {
      "text/html": [
       "\n",
       "  <div id=\"df-861fae06-635c-48ca-b257-b6ec2f8ab7fc\">\n",
       "    <div class=\"colab-df-container\">\n",
       "      <div>\n",
       "<style scoped>\n",
       "    .dataframe tbody tr th:only-of-type {\n",
       "        vertical-align: middle;\n",
       "    }\n",
       "\n",
       "    .dataframe tbody tr th {\n",
       "        vertical-align: top;\n",
       "    }\n",
       "\n",
       "    .dataframe thead th {\n",
       "        text-align: right;\n",
       "    }\n",
       "</style>\n",
       "<table border=\"1\" class=\"dataframe\">\n",
       "  <thead>\n",
       "    <tr style=\"text-align: right;\">\n",
       "      <th></th>\n",
       "      <th>carat</th>\n",
       "      <th>cut</th>\n",
       "      <th>color</th>\n",
       "      <th>clarity</th>\n",
       "      <th>depth</th>\n",
       "      <th>table</th>\n",
       "      <th>price</th>\n",
       "      <th>x</th>\n",
       "      <th>y</th>\n",
       "      <th>z</th>\n",
       "    </tr>\n",
       "  </thead>\n",
       "  <tbody>\n",
       "    <tr>\n",
       "      <th>1</th>\n",
       "      <td>0.23</td>\n",
       "      <td>Ideal</td>\n",
       "      <td>E</td>\n",
       "      <td>SI2</td>\n",
       "      <td>61.5</td>\n",
       "      <td>55.0</td>\n",
       "      <td>326</td>\n",
       "      <td>3.95</td>\n",
       "      <td>3.98</td>\n",
       "      <td>2.43</td>\n",
       "    </tr>\n",
       "    <tr>\n",
       "      <th>2</th>\n",
       "      <td>0.21</td>\n",
       "      <td>Premium</td>\n",
       "      <td>E</td>\n",
       "      <td>SI1</td>\n",
       "      <td>59.8</td>\n",
       "      <td>61.0</td>\n",
       "      <td>326</td>\n",
       "      <td>3.89</td>\n",
       "      <td>3.84</td>\n",
       "      <td>2.31</td>\n",
       "    </tr>\n",
       "    <tr>\n",
       "      <th>3</th>\n",
       "      <td>0.23</td>\n",
       "      <td>Good</td>\n",
       "      <td>E</td>\n",
       "      <td>VS1</td>\n",
       "      <td>56.9</td>\n",
       "      <td>65.0</td>\n",
       "      <td>327</td>\n",
       "      <td>4.05</td>\n",
       "      <td>4.07</td>\n",
       "      <td>2.31</td>\n",
       "    </tr>\n",
       "    <tr>\n",
       "      <th>4</th>\n",
       "      <td>0.29</td>\n",
       "      <td>Premium</td>\n",
       "      <td>I</td>\n",
       "      <td>VS2</td>\n",
       "      <td>62.4</td>\n",
       "      <td>58.0</td>\n",
       "      <td>334</td>\n",
       "      <td>4.20</td>\n",
       "      <td>4.23</td>\n",
       "      <td>2.63</td>\n",
       "    </tr>\n",
       "    <tr>\n",
       "      <th>5</th>\n",
       "      <td>0.31</td>\n",
       "      <td>Good</td>\n",
       "      <td>J</td>\n",
       "      <td>SI2</td>\n",
       "      <td>63.3</td>\n",
       "      <td>58.0</td>\n",
       "      <td>335</td>\n",
       "      <td>4.34</td>\n",
       "      <td>4.35</td>\n",
       "      <td>2.75</td>\n",
       "    </tr>\n",
       "    <tr>\n",
       "      <th>...</th>\n",
       "      <td>...</td>\n",
       "      <td>...</td>\n",
       "      <td>...</td>\n",
       "      <td>...</td>\n",
       "      <td>...</td>\n",
       "      <td>...</td>\n",
       "      <td>...</td>\n",
       "      <td>...</td>\n",
       "      <td>...</td>\n",
       "      <td>...</td>\n",
       "    </tr>\n",
       "    <tr>\n",
       "      <th>53936</th>\n",
       "      <td>0.72</td>\n",
       "      <td>Ideal</td>\n",
       "      <td>D</td>\n",
       "      <td>SI1</td>\n",
       "      <td>60.8</td>\n",
       "      <td>57.0</td>\n",
       "      <td>2757</td>\n",
       "      <td>5.75</td>\n",
       "      <td>5.76</td>\n",
       "      <td>3.50</td>\n",
       "    </tr>\n",
       "    <tr>\n",
       "      <th>53937</th>\n",
       "      <td>0.72</td>\n",
       "      <td>Good</td>\n",
       "      <td>D</td>\n",
       "      <td>SI1</td>\n",
       "      <td>63.1</td>\n",
       "      <td>55.0</td>\n",
       "      <td>2757</td>\n",
       "      <td>5.69</td>\n",
       "      <td>5.75</td>\n",
       "      <td>3.61</td>\n",
       "    </tr>\n",
       "    <tr>\n",
       "      <th>53938</th>\n",
       "      <td>0.70</td>\n",
       "      <td>Very Good</td>\n",
       "      <td>D</td>\n",
       "      <td>SI1</td>\n",
       "      <td>62.8</td>\n",
       "      <td>60.0</td>\n",
       "      <td>2757</td>\n",
       "      <td>5.66</td>\n",
       "      <td>5.68</td>\n",
       "      <td>3.56</td>\n",
       "    </tr>\n",
       "    <tr>\n",
       "      <th>53939</th>\n",
       "      <td>0.86</td>\n",
       "      <td>Premium</td>\n",
       "      <td>H</td>\n",
       "      <td>SI2</td>\n",
       "      <td>61.0</td>\n",
       "      <td>58.0</td>\n",
       "      <td>2757</td>\n",
       "      <td>6.15</td>\n",
       "      <td>6.12</td>\n",
       "      <td>3.74</td>\n",
       "    </tr>\n",
       "    <tr>\n",
       "      <th>53940</th>\n",
       "      <td>0.75</td>\n",
       "      <td>Ideal</td>\n",
       "      <td>D</td>\n",
       "      <td>SI2</td>\n",
       "      <td>62.2</td>\n",
       "      <td>55.0</td>\n",
       "      <td>2757</td>\n",
       "      <td>5.83</td>\n",
       "      <td>5.87</td>\n",
       "      <td>3.64</td>\n",
       "    </tr>\n",
       "  </tbody>\n",
       "</table>\n",
       "<p>53940 rows × 10 columns</p>\n",
       "</div>\n",
       "      <button class=\"colab-df-convert\" onclick=\"convertToInteractive('df-861fae06-635c-48ca-b257-b6ec2f8ab7fc')\"\n",
       "              title=\"Convert this dataframe to an interactive table.\"\n",
       "              style=\"display:none;\">\n",
       "        \n",
       "  <svg xmlns=\"http://www.w3.org/2000/svg\" height=\"24px\"viewBox=\"0 0 24 24\"\n",
       "       width=\"24px\">\n",
       "    <path d=\"M0 0h24v24H0V0z\" fill=\"none\"/>\n",
       "    <path d=\"M18.56 5.44l.94 2.06.94-2.06 2.06-.94-2.06-.94-.94-2.06-.94 2.06-2.06.94zm-11 1L8.5 8.5l.94-2.06 2.06-.94-2.06-.94L8.5 2.5l-.94 2.06-2.06.94zm10 10l.94 2.06.94-2.06 2.06-.94-2.06-.94-.94-2.06-.94 2.06-2.06.94z\"/><path d=\"M17.41 7.96l-1.37-1.37c-.4-.4-.92-.59-1.43-.59-.52 0-1.04.2-1.43.59L10.3 9.45l-7.72 7.72c-.78.78-.78 2.05 0 2.83L4 21.41c.39.39.9.59 1.41.59.51 0 1.02-.2 1.41-.59l7.78-7.78 2.81-2.81c.8-.78.8-2.07 0-2.86zM5.41 20L4 18.59l7.72-7.72 1.47 1.35L5.41 20z\"/>\n",
       "  </svg>\n",
       "      </button>\n",
       "      \n",
       "  <style>\n",
       "    .colab-df-container {\n",
       "      display:flex;\n",
       "      flex-wrap:wrap;\n",
       "      gap: 12px;\n",
       "    }\n",
       "\n",
       "    .colab-df-convert {\n",
       "      background-color: #E8F0FE;\n",
       "      border: none;\n",
       "      border-radius: 50%;\n",
       "      cursor: pointer;\n",
       "      display: none;\n",
       "      fill: #1967D2;\n",
       "      height: 32px;\n",
       "      padding: 0 0 0 0;\n",
       "      width: 32px;\n",
       "    }\n",
       "\n",
       "    .colab-df-convert:hover {\n",
       "      background-color: #E2EBFA;\n",
       "      box-shadow: 0px 1px 2px rgba(60, 64, 67, 0.3), 0px 1px 3px 1px rgba(60, 64, 67, 0.15);\n",
       "      fill: #174EA6;\n",
       "    }\n",
       "\n",
       "    [theme=dark] .colab-df-convert {\n",
       "      background-color: #3B4455;\n",
       "      fill: #D2E3FC;\n",
       "    }\n",
       "\n",
       "    [theme=dark] .colab-df-convert:hover {\n",
       "      background-color: #434B5C;\n",
       "      box-shadow: 0px 1px 3px 1px rgba(0, 0, 0, 0.15);\n",
       "      filter: drop-shadow(0px 1px 2px rgba(0, 0, 0, 0.3));\n",
       "      fill: #FFFFFF;\n",
       "    }\n",
       "  </style>\n",
       "\n",
       "      <script>\n",
       "        const buttonEl =\n",
       "          document.querySelector('#df-861fae06-635c-48ca-b257-b6ec2f8ab7fc button.colab-df-convert');\n",
       "        buttonEl.style.display =\n",
       "          google.colab.kernel.accessAllowed ? 'block' : 'none';\n",
       "\n",
       "        async function convertToInteractive(key) {\n",
       "          const element = document.querySelector('#df-861fae06-635c-48ca-b257-b6ec2f8ab7fc');\n",
       "          const dataTable =\n",
       "            await google.colab.kernel.invokeFunction('convertToInteractive',\n",
       "                                                     [key], {});\n",
       "          if (!dataTable) return;\n",
       "\n",
       "          const docLinkHtml = 'Like what you see? Visit the ' +\n",
       "            '<a target=\"_blank\" href=https://colab.research.google.com/notebooks/data_table.ipynb>data table notebook</a>'\n",
       "            + ' to learn more about interactive tables.';\n",
       "          element.innerHTML = '';\n",
       "          dataTable['output_type'] = 'display_data';\n",
       "          await google.colab.output.renderOutput(dataTable, element);\n",
       "          const docLink = document.createElement('div');\n",
       "          docLink.innerHTML = docLinkHtml;\n",
       "          element.appendChild(docLink);\n",
       "        }\n",
       "      </script>\n",
       "    </div>\n",
       "  </div>\n",
       "  "
      ],
      "text/plain": [
       "       carat        cut color clarity  depth  table  price     x     y     z\n",
       "1       0.23      Ideal     E     SI2   61.5   55.0    326  3.95  3.98  2.43\n",
       "2       0.21    Premium     E     SI1   59.8   61.0    326  3.89  3.84  2.31\n",
       "3       0.23       Good     E     VS1   56.9   65.0    327  4.05  4.07  2.31\n",
       "4       0.29    Premium     I     VS2   62.4   58.0    334  4.20  4.23  2.63\n",
       "5       0.31       Good     J     SI2   63.3   58.0    335  4.34  4.35  2.75\n",
       "...      ...        ...   ...     ...    ...    ...    ...   ...   ...   ...\n",
       "53936   0.72      Ideal     D     SI1   60.8   57.0   2757  5.75  5.76  3.50\n",
       "53937   0.72       Good     D     SI1   63.1   55.0   2757  5.69  5.75  3.61\n",
       "53938   0.70  Very Good     D     SI1   62.8   60.0   2757  5.66  5.68  3.56\n",
       "53939   0.86    Premium     H     SI2   61.0   58.0   2757  6.15  6.12  3.74\n",
       "53940   0.75      Ideal     D     SI2   62.2   55.0   2757  5.83  5.87  3.64\n",
       "\n",
       "[53940 rows x 10 columns]"
      ]
     },
     "execution_count": 23,
     "metadata": {},
     "output_type": "execute_result"
    }
   ],
   "source": [
    "df = pd.read_csv('/content/drive/MyDrive/Uni/diamonds.csv', index_col=0)\n",
    "df"
   ]
  },
  {
   "cell_type": "code",
   "execution_count": 24,
   "metadata": {
    "colab": {
     "base_uri": "https://localhost:8080/",
     "height": 423
    },
    "id": "UzxRbQkPOrHM",
    "outputId": "0c53e6ed-88a8-4458-848d-fac5ddfd9cf9"
   },
   "outputs": [
    {
     "data": {
      "text/html": [
       "\n",
       "  <div id=\"df-87a11cef-6b1b-4221-8c38-44588ff08bde\">\n",
       "    <div class=\"colab-df-container\">\n",
       "      <div>\n",
       "<style scoped>\n",
       "    .dataframe tbody tr th:only-of-type {\n",
       "        vertical-align: middle;\n",
       "    }\n",
       "\n",
       "    .dataframe tbody tr th {\n",
       "        vertical-align: top;\n",
       "    }\n",
       "\n",
       "    .dataframe thead th {\n",
       "        text-align: right;\n",
       "    }\n",
       "</style>\n",
       "<table border=\"1\" class=\"dataframe\">\n",
       "  <thead>\n",
       "    <tr style=\"text-align: right;\">\n",
       "      <th></th>\n",
       "      <th>carat</th>\n",
       "      <th>depth</th>\n",
       "      <th>table</th>\n",
       "      <th>price</th>\n",
       "      <th>x</th>\n",
       "      <th>y</th>\n",
       "      <th>z</th>\n",
       "    </tr>\n",
       "  </thead>\n",
       "  <tbody>\n",
       "    <tr>\n",
       "      <th>1</th>\n",
       "      <td>0.23</td>\n",
       "      <td>61.5</td>\n",
       "      <td>55.0</td>\n",
       "      <td>326</td>\n",
       "      <td>3.95</td>\n",
       "      <td>3.98</td>\n",
       "      <td>2.43</td>\n",
       "    </tr>\n",
       "    <tr>\n",
       "      <th>2</th>\n",
       "      <td>0.21</td>\n",
       "      <td>59.8</td>\n",
       "      <td>61.0</td>\n",
       "      <td>326</td>\n",
       "      <td>3.89</td>\n",
       "      <td>3.84</td>\n",
       "      <td>2.31</td>\n",
       "    </tr>\n",
       "    <tr>\n",
       "      <th>3</th>\n",
       "      <td>0.23</td>\n",
       "      <td>56.9</td>\n",
       "      <td>65.0</td>\n",
       "      <td>327</td>\n",
       "      <td>4.05</td>\n",
       "      <td>4.07</td>\n",
       "      <td>2.31</td>\n",
       "    </tr>\n",
       "    <tr>\n",
       "      <th>4</th>\n",
       "      <td>0.29</td>\n",
       "      <td>62.4</td>\n",
       "      <td>58.0</td>\n",
       "      <td>334</td>\n",
       "      <td>4.20</td>\n",
       "      <td>4.23</td>\n",
       "      <td>2.63</td>\n",
       "    </tr>\n",
       "    <tr>\n",
       "      <th>5</th>\n",
       "      <td>0.31</td>\n",
       "      <td>63.3</td>\n",
       "      <td>58.0</td>\n",
       "      <td>335</td>\n",
       "      <td>4.34</td>\n",
       "      <td>4.35</td>\n",
       "      <td>2.75</td>\n",
       "    </tr>\n",
       "    <tr>\n",
       "      <th>...</th>\n",
       "      <td>...</td>\n",
       "      <td>...</td>\n",
       "      <td>...</td>\n",
       "      <td>...</td>\n",
       "      <td>...</td>\n",
       "      <td>...</td>\n",
       "      <td>...</td>\n",
       "    </tr>\n",
       "    <tr>\n",
       "      <th>53936</th>\n",
       "      <td>0.72</td>\n",
       "      <td>60.8</td>\n",
       "      <td>57.0</td>\n",
       "      <td>2757</td>\n",
       "      <td>5.75</td>\n",
       "      <td>5.76</td>\n",
       "      <td>3.50</td>\n",
       "    </tr>\n",
       "    <tr>\n",
       "      <th>53937</th>\n",
       "      <td>0.72</td>\n",
       "      <td>63.1</td>\n",
       "      <td>55.0</td>\n",
       "      <td>2757</td>\n",
       "      <td>5.69</td>\n",
       "      <td>5.75</td>\n",
       "      <td>3.61</td>\n",
       "    </tr>\n",
       "    <tr>\n",
       "      <th>53938</th>\n",
       "      <td>0.70</td>\n",
       "      <td>62.8</td>\n",
       "      <td>60.0</td>\n",
       "      <td>2757</td>\n",
       "      <td>5.66</td>\n",
       "      <td>5.68</td>\n",
       "      <td>3.56</td>\n",
       "    </tr>\n",
       "    <tr>\n",
       "      <th>53939</th>\n",
       "      <td>0.86</td>\n",
       "      <td>61.0</td>\n",
       "      <td>58.0</td>\n",
       "      <td>2757</td>\n",
       "      <td>6.15</td>\n",
       "      <td>6.12</td>\n",
       "      <td>3.74</td>\n",
       "    </tr>\n",
       "    <tr>\n",
       "      <th>53940</th>\n",
       "      <td>0.75</td>\n",
       "      <td>62.2</td>\n",
       "      <td>55.0</td>\n",
       "      <td>2757</td>\n",
       "      <td>5.83</td>\n",
       "      <td>5.87</td>\n",
       "      <td>3.64</td>\n",
       "    </tr>\n",
       "  </tbody>\n",
       "</table>\n",
       "<p>53940 rows × 7 columns</p>\n",
       "</div>\n",
       "      <button class=\"colab-df-convert\" onclick=\"convertToInteractive('df-87a11cef-6b1b-4221-8c38-44588ff08bde')\"\n",
       "              title=\"Convert this dataframe to an interactive table.\"\n",
       "              style=\"display:none;\">\n",
       "        \n",
       "  <svg xmlns=\"http://www.w3.org/2000/svg\" height=\"24px\"viewBox=\"0 0 24 24\"\n",
       "       width=\"24px\">\n",
       "    <path d=\"M0 0h24v24H0V0z\" fill=\"none\"/>\n",
       "    <path d=\"M18.56 5.44l.94 2.06.94-2.06 2.06-.94-2.06-.94-.94-2.06-.94 2.06-2.06.94zm-11 1L8.5 8.5l.94-2.06 2.06-.94-2.06-.94L8.5 2.5l-.94 2.06-2.06.94zm10 10l.94 2.06.94-2.06 2.06-.94-2.06-.94-.94-2.06-.94 2.06-2.06.94z\"/><path d=\"M17.41 7.96l-1.37-1.37c-.4-.4-.92-.59-1.43-.59-.52 0-1.04.2-1.43.59L10.3 9.45l-7.72 7.72c-.78.78-.78 2.05 0 2.83L4 21.41c.39.39.9.59 1.41.59.51 0 1.02-.2 1.41-.59l7.78-7.78 2.81-2.81c.8-.78.8-2.07 0-2.86zM5.41 20L4 18.59l7.72-7.72 1.47 1.35L5.41 20z\"/>\n",
       "  </svg>\n",
       "      </button>\n",
       "      \n",
       "  <style>\n",
       "    .colab-df-container {\n",
       "      display:flex;\n",
       "      flex-wrap:wrap;\n",
       "      gap: 12px;\n",
       "    }\n",
       "\n",
       "    .colab-df-convert {\n",
       "      background-color: #E8F0FE;\n",
       "      border: none;\n",
       "      border-radius: 50%;\n",
       "      cursor: pointer;\n",
       "      display: none;\n",
       "      fill: #1967D2;\n",
       "      height: 32px;\n",
       "      padding: 0 0 0 0;\n",
       "      width: 32px;\n",
       "    }\n",
       "\n",
       "    .colab-df-convert:hover {\n",
       "      background-color: #E2EBFA;\n",
       "      box-shadow: 0px 1px 2px rgba(60, 64, 67, 0.3), 0px 1px 3px 1px rgba(60, 64, 67, 0.15);\n",
       "      fill: #174EA6;\n",
       "    }\n",
       "\n",
       "    [theme=dark] .colab-df-convert {\n",
       "      background-color: #3B4455;\n",
       "      fill: #D2E3FC;\n",
       "    }\n",
       "\n",
       "    [theme=dark] .colab-df-convert:hover {\n",
       "      background-color: #434B5C;\n",
       "      box-shadow: 0px 1px 3px 1px rgba(0, 0, 0, 0.15);\n",
       "      filter: drop-shadow(0px 1px 2px rgba(0, 0, 0, 0.3));\n",
       "      fill: #FFFFFF;\n",
       "    }\n",
       "  </style>\n",
       "\n",
       "      <script>\n",
       "        const buttonEl =\n",
       "          document.querySelector('#df-87a11cef-6b1b-4221-8c38-44588ff08bde button.colab-df-convert');\n",
       "        buttonEl.style.display =\n",
       "          google.colab.kernel.accessAllowed ? 'block' : 'none';\n",
       "\n",
       "        async function convertToInteractive(key) {\n",
       "          const element = document.querySelector('#df-87a11cef-6b1b-4221-8c38-44588ff08bde');\n",
       "          const dataTable =\n",
       "            await google.colab.kernel.invokeFunction('convertToInteractive',\n",
       "                                                     [key], {});\n",
       "          if (!dataTable) return;\n",
       "\n",
       "          const docLinkHtml = 'Like what you see? Visit the ' +\n",
       "            '<a target=\"_blank\" href=https://colab.research.google.com/notebooks/data_table.ipynb>data table notebook</a>'\n",
       "            + ' to learn more about interactive tables.';\n",
       "          element.innerHTML = '';\n",
       "          dataTable['output_type'] = 'display_data';\n",
       "          await google.colab.output.renderOutput(dataTable, element);\n",
       "          const docLink = document.createElement('div');\n",
       "          docLink.innerHTML = docLinkHtml;\n",
       "          element.appendChild(docLink);\n",
       "        }\n",
       "      </script>\n",
       "    </div>\n",
       "  </div>\n",
       "  "
      ],
      "text/plain": [
       "       carat  depth  table  price     x     y     z\n",
       "1       0.23   61.5   55.0    326  3.95  3.98  2.43\n",
       "2       0.21   59.8   61.0    326  3.89  3.84  2.31\n",
       "3       0.23   56.9   65.0    327  4.05  4.07  2.31\n",
       "4       0.29   62.4   58.0    334  4.20  4.23  2.63\n",
       "5       0.31   63.3   58.0    335  4.34  4.35  2.75\n",
       "...      ...    ...    ...    ...   ...   ...   ...\n",
       "53936   0.72   60.8   57.0   2757  5.75  5.76  3.50\n",
       "53937   0.72   63.1   55.0   2757  5.69  5.75  3.61\n",
       "53938   0.70   62.8   60.0   2757  5.66  5.68  3.56\n",
       "53939   0.86   61.0   58.0   2757  6.15  6.12  3.74\n",
       "53940   0.75   62.2   55.0   2757  5.83  5.87  3.64\n",
       "\n",
       "[53940 rows x 7 columns]"
      ]
     },
     "execution_count": 24,
     "metadata": {},
     "output_type": "execute_result"
    }
   ],
   "source": [
    "df = df[['carat', 'depth', 'table', 'price', 'x', 'y', 'z']]\n",
    "df"
   ]
  },
  {
   "cell_type": "code",
   "execution_count": 25,
   "metadata": {
    "colab": {
     "base_uri": "https://localhost:8080/"
    },
    "id": "LZn-MbeAOuQb",
    "outputId": "1c42b23b-bcda-4d53-b345-f57f1558abba"
   },
   "outputs": [
    {
     "name": "stderr",
     "output_type": "stream",
     "text": [
      "<ipython-input-25-aea09f144796>:1: SettingWithCopyWarning: \n",
      "A value is trying to be set on a copy of a slice from a DataFrame.\n",
      "Try using .loc[row_indexer,col_indexer] = value instead\n",
      "\n",
      "See the caveats in the documentation: https://pandas.pydata.org/pandas-docs/stable/user_guide/indexing.html#returning-a-view-versus-a-copy\n",
      "  df['target'] = np.log(df['price'])\n"
     ]
    }
   ],
   "source": [
    "df['target'] = np.log(df['price'])"
   ]
  },
  {
   "cell_type": "code",
   "execution_count": 26,
   "metadata": {
    "id": "fEfTNJQI8emD"
   },
   "outputs": [],
   "source": [
    "class DiamondsDataset(Dataset):\n",
    "    def __init__(self, data):\n",
    "        super(Dataset, self).__init__()\n",
    "        self.X = torch.tensor(data.drop(columns=['price', 'target']).values, dtype=torch.float32)\n",
    "        self.y = torch.tensor(data['target'].values.reshape(-1, 1), dtype=torch.float32)\n",
    "        self.len_x = len(self.X)\n",
    "\n",
    "    def __len__(self):\n",
    "        return self.len_x\n",
    "\n",
    "    def __getitem__(self, idx):\n",
    "        return (self.X[idx], self.y[idx])"
   ]
  },
  {
   "cell_type": "markdown",
   "metadata": {
    "id": "fOweizELN4JU"
   },
   "source": [
    "3.4.2.2 Разбейте датасет на обучающий и тестовый датасет при помощи `torch.utils.data.random_split`.\n",
    "\n"
   ]
  },
  {
   "cell_type": "code",
   "execution_count": 27,
   "metadata": {
    "id": "hAHqUeuVO-wE"
   },
   "outputs": [],
   "source": [
    "data = DiamondsDataset(df)\n",
    "data_train, data_test = random_split(data, (int(0.8*len(data)), len(data)-int(0.8*len(data))),\n",
    "                                     generator=torch.Generator().manual_seed(42))"
   ]
  },
  {
   "cell_type": "markdown",
   "metadata": {
    "id": "9mEjn25fPAgN"
   },
   "source": [
    "3.4.2.3 Обучите модель для предсказания цен при помощи мини-пакетного градиентного спуска (`batch_size = 256`). \n"
   ]
  },
  {
   "cell_type": "code",
   "execution_count": 28,
   "metadata": {
    "id": "WkA5s26uPD5S"
   },
   "outputs": [],
   "source": [
    "train_loader = DataLoader(data_train, batch_size=256, shuffle=True)\n",
    "test_loader = DataLoader(data_test, batch_size=256, shuffle=True)"
   ]
  },
  {
   "cell_type": "code",
   "execution_count": 29,
   "metadata": {
    "colab": {
     "base_uri": "https://localhost:8080/",
     "height": 449
    },
    "id": "LmdMfRmSPGz7",
    "outputId": "b6865645-11aa-49a9-9b34-75068992a1e7"
   },
   "outputs": [
    {
     "data": {
      "text/plain": [
       "[<matplotlib.lines.Line2D at 0x7f9f96c36610>]"
      ]
     },
     "execution_count": 29,
     "metadata": {},
     "output_type": "execute_result"
    },
    {
     "data": {
      "image/png": "[encoded data removed]",
      "text/plain": [
       "<Figure size 640x480 with 1 Axes>"
      ]
     },
     "metadata": {},
     "output_type": "display_data"
    }
   ],
   "source": [
    "plt.plot(df['target'])"
   ]
  },
  {
   "cell_type": "code",
   "execution_count": 30,
   "metadata": {
    "colab": {
     "base_uri": "https://localhost:8080/"
    },
    "id": "hFUrFUE-PLKI",
    "outputId": "3f868e37-1738-4462-aa6f-db9ded759d29"
   },
   "outputs": [
    {
     "name": "stdout",
     "output_type": "stream",
     "text": [
      "----------------------------------------------------------------\n",
      "        Layer (type)               Output Shape         Param #\n",
      "================================================================\n",
      "            Linear-1                  [256, 64]             448\n",
      "              Tanh-2                  [256, 64]               0\n",
      "            Linear-3                  [256, 16]           1,040\n",
      "              ReLU-4                  [256, 16]               0\n",
      "            Linear-5                   [256, 1]              17\n",
      "================================================================\n",
      "Total params: 1,505\n",
      "Trainable params: 1,505\n",
      "Non-trainable params: 0\n",
      "----------------------------------------------------------------\n",
      "Input size (MB): 0.01\n",
      "Forward/backward pass size (MB): 0.31\n",
      "Params size (MB): 0.01\n",
      "Estimated Total Size (MB): 0.33\n",
      "----------------------------------------------------------------\n"
     ]
    }
   ],
   "source": [
    "model = model = nn.Sequential(\n",
    "    nn.Linear(6, 64),\n",
    "    nn.Tanh(),\n",
    "    nn.Linear(64, 16),\n",
    "    nn.ReLU(),\n",
    "    nn.Linear(16, 1),\n",
    ")\n",
    "loss = nn.MSELoss()\n",
    "optimizer = optim.Adam(model.parameters(), lr=1e-3)\n",
    "summary(model, (6,), batch_size=256)"
   ]
  },
  {
   "cell_type": "code",
   "execution_count": 31,
   "metadata": {
    "id": "UBXoMsKpPM5m"
   },
   "outputs": [],
   "source": [
    "history = []\n",
    "\n",
    "for i in range(200):\n",
    "    history_by_epoch = []\n",
    "    for batch, dt in enumerate(train_loader):\n",
    "        X_mini, y_mini = dt\n",
    "        pred = model(X_mini)\n",
    "\n",
    "        loss_func = loss(pred, y_mini)\n",
    "        history_by_epoch.append(loss_func.item())\n",
    "        \n",
    "        optimizer.zero_grad()\n",
    "        loss_func.backward()\n",
    "\n",
    "        optimizer.step()\n",
    "    history.append(np.mean(history_by_epoch))"
   ]
  },
  {
   "cell_type": "markdown",
   "metadata": {
    "id": "XhGpLpymO4e1"
   },
   "source": [
    "\n",
    "3.4.2.4 Выведите график функции потерь в зависимости от номера эпохи (значение потерь для эпохи рассчитывайте как среднее значение ошибок на каждом батче). Проверьте качество модели на тестовой выборке. \n"
   ]
  },
  {
   "cell_type": "code",
   "execution_count": 32,
   "metadata": {
    "colab": {
     "base_uri": "https://localhost:8080/",
     "height": 488
    },
    "id": "nWWlf_74PQg-",
    "outputId": "c0e87054-2ec8-43ee-c394-be808bd705b9"
   },
   "outputs": [
    {
     "data": {
      "image/png": "[encoded data removed]",
      "text/plain": [
       "<Figure size 1000x700 with 1 Axes>"
      ]
     },
     "metadata": {},
     "output_type": "display_data"
    }
   ],
   "source": [
    "plt.figure(figsize=(10, 7))\n",
    "\n",
    "plt.plot(history)\n",
    "\n",
    "plt.title('Loss by epoch')\n",
    "plt.ylabel('MSE Loss')\n",
    "plt.xlabel('epochs')\n",
    "plt.show()"
   ]
  },
  {
   "cell_type": "code",
   "execution_count": 33,
   "metadata": {
    "colab": {
     "base_uri": "https://localhost:8080/"
    },
    "id": "R1GjH4e7Pqj6",
    "outputId": "4b50d9bc-f65c-41ed-c825-e994a00202c7"
   },
   "outputs": [
    {
     "data": {
      "text/plain": [
       "0.06231648292998935"
      ]
     },
     "execution_count": 33,
     "metadata": {},
     "output_type": "execute_result"
    }
   ],
   "source": [
    "mean_loss_test = []\n",
    "for batch, dt in enumerate(test_loader):\n",
    "    X_mini, y_mini = dt\n",
    "    pred = model(X_mini)\n",
    "    l = loss(pred, y_mini)\n",
    "    mean_loss_test.append(l.item())\n",
    "np.mean(mean_loss_test)"
   ]
  },
  {
   "cell_type": "code",
   "execution_count": 34,
   "metadata": {
    "colab": {
     "base_uri": "https://localhost:8080/"
    },
    "id": "bXi8RB0tPr0i",
    "outputId": "30bf3d3a-45dd-4838-eb32-70a07c42ceed"
   },
   "outputs": [
    {
     "data": {
      "text/plain": [
       "(53940, 6)"
      ]
     },
     "execution_count": 34,
     "metadata": {},
     "output_type": "execute_result"
    }
   ],
   "source": [
    "X = df.drop(columns=['target', 'price'])\n",
    "X.shape"
   ]
  },
  {
   "cell_type": "code",
   "execution_count": 35,
   "metadata": {
    "id": "z-BxAA6iPtUc"
   },
   "outputs": [],
   "source": [
    "X = torch.tensor(X.values, dtype=torch.float32)"
   ]
  },
  {
   "cell_type": "code",
   "execution_count": 36,
   "metadata": {
    "id": "cahukpObPuvH"
   },
   "outputs": [],
   "source": [
    "pred = model(X)"
   ]
  },
  {
   "cell_type": "code",
   "execution_count": 37,
   "metadata": {
    "colab": {
     "base_uri": "https://localhost:8080/",
     "height": 423
    },
    "id": "xnzzfZPUPvru",
    "outputId": "50cf1c5b-4bcc-4d4f-fdbd-ee64ba0b0d66"
   },
   "outputs": [
    {
     "data": {
      "text/html": [
       "\n",
       "  <div id=\"df-bb85d3c3-8217-416e-acd5-e956d6ae1fac\">\n",
       "    <div class=\"colab-df-container\">\n",
       "      <div>\n",
       "<style scoped>\n",
       "    .dataframe tbody tr th:only-of-type {\n",
       "        vertical-align: middle;\n",
       "    }\n",
       "\n",
       "    .dataframe tbody tr th {\n",
       "        vertical-align: top;\n",
       "    }\n",
       "\n",
       "    .dataframe thead th {\n",
       "        text-align: right;\n",
       "    }\n",
       "</style>\n",
       "<table border=\"1\" class=\"dataframe\">\n",
       "  <thead>\n",
       "    <tr style=\"text-align: right;\">\n",
       "      <th></th>\n",
       "      <th>pred</th>\n",
       "      <th>price</th>\n",
       "      <th>dif</th>\n",
       "    </tr>\n",
       "  </thead>\n",
       "  <tbody>\n",
       "    <tr>\n",
       "      <th>1</th>\n",
       "      <td>552.212219</td>\n",
       "      <td>326</td>\n",
       "      <td>-226.212219</td>\n",
       "    </tr>\n",
       "    <tr>\n",
       "      <th>2</th>\n",
       "      <td>490.037476</td>\n",
       "      <td>326</td>\n",
       "      <td>-164.037476</td>\n",
       "    </tr>\n",
       "    <tr>\n",
       "      <th>3</th>\n",
       "      <td>467.623322</td>\n",
       "      <td>327</td>\n",
       "      <td>-140.623322</td>\n",
       "    </tr>\n",
       "    <tr>\n",
       "      <th>4</th>\n",
       "      <td>623.327148</td>\n",
       "      <td>334</td>\n",
       "      <td>-289.327148</td>\n",
       "    </tr>\n",
       "    <tr>\n",
       "      <th>5</th>\n",
       "      <td>663.658020</td>\n",
       "      <td>335</td>\n",
       "      <td>-328.658020</td>\n",
       "    </tr>\n",
       "    <tr>\n",
       "      <th>...</th>\n",
       "      <td>...</td>\n",
       "      <td>...</td>\n",
       "      <td>...</td>\n",
       "    </tr>\n",
       "    <tr>\n",
       "      <th>53936</th>\n",
       "      <td>2692.621582</td>\n",
       "      <td>2757</td>\n",
       "      <td>64.378418</td>\n",
       "    </tr>\n",
       "    <tr>\n",
       "      <th>53937</th>\n",
       "      <td>2594.122070</td>\n",
       "      <td>2757</td>\n",
       "      <td>162.877930</td>\n",
       "    </tr>\n",
       "    <tr>\n",
       "      <th>53938</th>\n",
       "      <td>2304.300293</td>\n",
       "      <td>2757</td>\n",
       "      <td>452.699707</td>\n",
       "    </tr>\n",
       "    <tr>\n",
       "      <th>53939</th>\n",
       "      <td>3705.032715</td>\n",
       "      <td>2757</td>\n",
       "      <td>-948.032715</td>\n",
       "    </tr>\n",
       "    <tr>\n",
       "      <th>53940</th>\n",
       "      <td>2954.598145</td>\n",
       "      <td>2757</td>\n",
       "      <td>-197.598145</td>\n",
       "    </tr>\n",
       "  </tbody>\n",
       "</table>\n",
       "<p>53940 rows × 3 columns</p>\n",
       "</div>\n",
       "      <button class=\"colab-df-convert\" onclick=\"convertToInteractive('df-bb85d3c3-8217-416e-acd5-e956d6ae1fac')\"\n",
       "              title=\"Convert this dataframe to an interactive table.\"\n",
       "              style=\"display:none;\">\n",
       "        \n",
       "  <svg xmlns=\"http://www.w3.org/2000/svg\" height=\"24px\"viewBox=\"0 0 24 24\"\n",
       "       width=\"24px\">\n",
       "    <path d=\"M0 0h24v24H0V0z\" fill=\"none\"/>\n",
       "    <path d=\"M18.56 5.44l.94 2.06.94-2.06 2.06-.94-2.06-.94-.94-2.06-.94 2.06-2.06.94zm-11 1L8.5 8.5l.94-2.06 2.06-.94-2.06-.94L8.5 2.5l-.94 2.06-2.06.94zm10 10l.94 2.06.94-2.06 2.06-.94-2.06-.94-.94-2.06-.94 2.06-2.06.94z\"/><path d=\"M17.41 7.96l-1.37-1.37c-.4-.4-.92-.59-1.43-.59-.52 0-1.04.2-1.43.59L10.3 9.45l-7.72 7.72c-.78.78-.78 2.05 0 2.83L4 21.41c.39.39.9.59 1.41.59.51 0 1.02-.2 1.41-.59l7.78-7.78 2.81-2.81c.8-.78.8-2.07 0-2.86zM5.41 20L4 18.59l7.72-7.72 1.47 1.35L5.41 20z\"/>\n",
       "  </svg>\n",
       "      </button>\n",
       "      \n",
       "  <style>\n",
       "    .colab-df-container {\n",
       "      display:flex;\n",
       "      flex-wrap:wrap;\n",
       "      gap: 12px;\n",
       "    }\n",
       "\n",
       "    .colab-df-convert {\n",
       "      background-color: #E8F0FE;\n",
       "      border: none;\n",
       "      border-radius: 50%;\n",
       "      cursor: pointer;\n",
       "      display: none;\n",
       "      fill: #1967D2;\n",
       "      height: 32px;\n",
       "      padding: 0 0 0 0;\n",
       "      width: 32px;\n",
       "    }\n",
       "\n",
       "    .colab-df-convert:hover {\n",
       "      background-color: #E2EBFA;\n",
       "      box-shadow: 0px 1px 2px rgba(60, 64, 67, 0.3), 0px 1px 3px 1px rgba(60, 64, 67, 0.15);\n",
       "      fill: #174EA6;\n",
       "    }\n",
       "\n",
       "    [theme=dark] .colab-df-convert {\n",
       "      background-color: #3B4455;\n",
       "      fill: #D2E3FC;\n",
       "    }\n",
       "\n",
       "    [theme=dark] .colab-df-convert:hover {\n",
       "      background-color: #434B5C;\n",
       "      box-shadow: 0px 1px 3px 1px rgba(0, 0, 0, 0.15);\n",
       "      filter: drop-shadow(0px 1px 2px rgba(0, 0, 0, 0.3));\n",
       "      fill: #FFFFFF;\n",
       "    }\n",
       "  </style>\n",
       "\n",
       "      <script>\n",
       "        const buttonEl =\n",
       "          document.querySelector('#df-bb85d3c3-8217-416e-acd5-e956d6ae1fac button.colab-df-convert');\n",
       "        buttonEl.style.display =\n",
       "          google.colab.kernel.accessAllowed ? 'block' : 'none';\n",
       "\n",
       "        async function convertToInteractive(key) {\n",
       "          const element = document.querySelector('#df-bb85d3c3-8217-416e-acd5-e956d6ae1fac');\n",
       "          const dataTable =\n",
       "            await google.colab.kernel.invokeFunction('convertToInteractive',\n",
       "                                                     [key], {});\n",
       "          if (!dataTable) return;\n",
       "\n",
       "          const docLinkHtml = 'Like what you see? Visit the ' +\n",
       "            '<a target=\"_blank\" href=https://colab.research.google.com/notebooks/data_table.ipynb>data table notebook</a>'\n",
       "            + ' to learn more about interactive tables.';\n",
       "          element.innerHTML = '';\n",
       "          dataTable['output_type'] = 'display_data';\n",
       "          await google.colab.output.renderOutput(dataTable, element);\n",
       "          const docLink = document.createElement('div');\n",
       "          docLink.innerHTML = docLinkHtml;\n",
       "          element.appendChild(docLink);\n",
       "        }\n",
       "      </script>\n",
       "    </div>\n",
       "  </div>\n",
       "  "
      ],
      "text/plain": [
       "              pred  price         dif\n",
       "1       552.212219    326 -226.212219\n",
       "2       490.037476    326 -164.037476\n",
       "3       467.623322    327 -140.623322\n",
       "4       623.327148    334 -289.327148\n",
       "5       663.658020    335 -328.658020\n",
       "...            ...    ...         ...\n",
       "53936  2692.621582   2757   64.378418\n",
       "53937  2594.122070   2757  162.877930\n",
       "53938  2304.300293   2757  452.699707\n",
       "53939  3705.032715   2757 -948.032715\n",
       "53940  2954.598145   2757 -197.598145\n",
       "\n",
       "[53940 rows x 3 columns]"
      ]
     },
     "execution_count": 37,
     "metadata": {},
     "output_type": "execute_result"
    }
   ],
   "source": [
    "pred_dif = pd.DataFrame(np.exp(pred.detach().numpy()), columns=['pred'], index=df.index)\n",
    "pred_dif['price'] = df['price'].copy()\n",
    "pred_dif['dif'] = pred_dif['price'] - pred_dif['pred']\n",
    "pred_dif"
   ]
  },
  {
   "cell_type": "markdown",
   "metadata": {
    "id": "qE81cgQdGM7I"
   },
   "source": [
    "3.4.3 Модифицируйте метод `__init__` датасета из 3.4.2 таким образом, чтобы он мог принимать параметр `transform: callable`. Реализуйте класс `DropColsTransform` для удаления нечисловых данных из массива. Реализуйте класс `ToTensorTransorm` для трансформации массива в тензор."
   ]
  },
  {
   "cell_type": "code",
   "execution_count": 38,
   "metadata": {
    "id": "J02LNj_F8qxK"
   },
   "outputs": [],
   "source": [
    "class DiamondsDataset(Dataset):\n",
    "  def __init__(self, data, transform):\n",
    "    # ....\n",
    "    super(Dataset, self).__init__()\n",
    "    self.transform = transform\n",
    "    self.data = data\n",
    "    self.X = np.delete(self.data, 6, axis=1)\n",
    "    self.y = self.data[:, [6]]\n",
    "    self.len_x = len(self.X)\n",
    "    # ....\n",
    "\n",
    "  def __len__(self):\n",
    "    return self.len_x\n",
    "\n",
    "  def __getitem__(self, idx):\n",
    "    # ...\n",
    "    sample = self.X[idx], self.y[idx]\n",
    "    if self.transform:\n",
    "        sample = self.transform(sample)\n",
    "    return sample\n",
    "    # ...."
   ]
  },
  {
   "cell_type": "code",
   "execution_count": 39,
   "metadata": {
    "id": "tJii-22pHIlU"
   },
   "outputs": [],
   "source": [
    "class DropColsTransform:\n",
    "  def __init__(self, drop1):\n",
    "      self.drop1 = drop1\n",
    "\n",
    "  def __call__(self, sample):\n",
    "      X, y = sample\n",
    "      X = np.delete(X, self.drop1)\n",
    "      return X.astype(np.float32), y.astype(np.float32)"
   ]
  },
  {
   "cell_type": "code",
   "execution_count": 40,
   "metadata": {
    "id": "dZZ-OKrVHnY5"
   },
   "outputs": [],
   "source": [
    "class ToTensorTransform:\n",
    "  def __call__(self, sample):\n",
    "    X, y = sample\n",
    "    return torch.from_numpy(X), torch.from_numpy(y)"
   ]
  },
  {
   "cell_type": "code",
   "execution_count": 41,
   "metadata": {
    "colab": {
     "base_uri": "https://localhost:8080/"
    },
    "id": "d1_jfgZrQOho",
    "outputId": "6b3b98f9-6cfd-4daf-ab61-f9354d0d0ba4"
   },
   "outputs": [
    {
     "data": {
      "text/plain": [
       "(53940, 10)"
      ]
     },
     "execution_count": 41,
     "metadata": {},
     "output_type": "execute_result"
    }
   ],
   "source": [
    "data = np.loadtxt('/content/drive/MyDrive/Uni/diamonds.csv',delimiter=',', skiprows=1, dtype='S', encoding='utf-8',\n",
    "                  usecols=range(1, 11))\n",
    "data.shape"
   ]
  },
  {
   "cell_type": "code",
   "execution_count": 42,
   "metadata": {
    "colab": {
     "base_uri": "https://localhost:8080/"
    },
    "id": "1gZAJ6F5QQOD",
    "outputId": "a8bd8b94-1aed-4ffd-b3a4-81e560d5890f"
   },
   "outputs": [
    {
     "data": {
      "text/plain": [
       "array([[b'0.23', b'\"Ideal\"', b'\"E\"', ..., b'3.95', b'3.98', b'2.43'],\n",
       "       [b'0.21', b'\"Premium\"', b'\"E\"', ..., b'3.89', b'3.84', b'2.31'],\n",
       "       [b'0.23', b'\"Good\"', b'\"E\"', ..., b'4.05', b'4.07', b'2.31'],\n",
       "       ...,\n",
       "       [b'0.7', b'\"Very Good\"', b'\"D\"', ..., b'5.66', b'5.68', b'3.56'],\n",
       "       [b'0.86', b'\"Premium\"', b'\"H\"', ..., b'6.15', b'6.12', b'3.74'],\n",
       "       [b'0.75', b'\"Ideal\"', b'\"D\"', ..., b'5.83', b'5.87', b'3.64']],\n",
       "      dtype='|S11')"
      ]
     },
     "execution_count": 42,
     "metadata": {},
     "output_type": "execute_result"
    }
   ],
   "source": [
    "data"
   ]
  },
  {
   "cell_type": "code",
   "execution_count": 43,
   "metadata": {
    "id": "GssBjT9JHt5g"
   },
   "outputs": [],
   "source": [
    "drop = DropColsTransform(drop1=[1, 2, 3])\n",
    "to_tensor = ToTensorTransform()\n",
    "dataset = DiamondsDataset(data, transforms.Compose([drop, to_tensor]))\n"
   ]
  },
  {
   "cell_type": "code",
   "execution_count": 44,
   "metadata": {
    "colab": {
     "base_uri": "https://localhost:8080/"
    },
    "id": "AVfRSRMGQTRA",
    "outputId": "62ad1986-8686-4c5b-8424-8495753be912"
   },
   "outputs": [
    {
     "name": "stdout",
     "output_type": "stream",
     "text": [
      "tensor([ 0.2300, 61.5000, 55.0000,  3.9500,  3.9800,  2.4300]) tensor([326.])\n"
     ]
    }
   ],
   "source": [
    "x0, y0 = dataset[0]\n",
    "print(x0, y0)"
   ]
  }
 ],
 "metadata": {
  "colab": {
   "provenance": []
  },
  "kernelspec": {
   "display_name": "Python 3 (ipykernel)",
   "language": "python",
   "name": "python3"
  },
  "language_info": {
   "codemirror_mode": {
    "name": "ipython",
    "version": 3
   },
   "file_extension": ".py",
   "mimetype": "text/x-python",
   "name": "python",
   "nbconvert_exporter": "python",
   "pygments_lexer": "ipython3",
   "version": "3.9.12"
  }
 },
 "nbformat": 4,
 "nbformat_minor": 1
}
