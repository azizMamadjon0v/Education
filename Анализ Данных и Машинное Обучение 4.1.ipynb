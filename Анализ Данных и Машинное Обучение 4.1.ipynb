{
 "cells": [
  {
   "cell_type": "code",
   "execution_count": null,
   "metadata": {
    "colab": {
     "base_uri": "https://localhost:8080/"
    },
    "executionInfo": {
     "elapsed": 2269,
     "status": "ok",
     "timestamp": 1668099059864,
     "user": {
      "displayName": "Aziz Mamadzhanov",
      "userId": "06961773856192677064"
     },
     "user_tz": -180
    },
    "id": "hhmEBH-CWAAR",
    "outputId": "279fc205-fdcc-4909-8689-a1b2564f90cd"
   },
   "outputs": [
    {
     "name": "stdout",
     "output_type": "stream",
     "text": [
      "Drive already mounted at /content/drive; to attempt to forcibly remount, call drive.mount(\"/content/drive\", force_remount=True).\n"
     ]
    }
   ],
   "source": [
    "from google.colab import drive\n",
    "drive.mount('/content/drive')"
   ]
  },
  {
   "cell_type": "code",
   "execution_count": null,
   "metadata": {
    "id": "S3KnLnUkWTpf"
   },
   "outputs": [],
   "source": [
    "from sklearn.datasets import load_breast_cancer\n",
    "from sklearn.model_selection import train_test_split\n",
    "from sklearn.linear_model import LogisticRegression\n",
    "from sklearn.neighbors import KNeighborsClassifier\n",
    "from sklearn.svm import SVC  \n",
    "from sklearn.discriminant_analysis import LinearDiscriminantAnalysis as LDA\n",
    "from sklearn.metrics import confusion_matrix, accuracy_score, classification_report\n",
    "from sklearn import metrics\n",
    "import matplotlib.pyplot as plt\n",
    "import numpy as np"
   ]
  },
  {
   "cell_type": "markdown",
   "metadata": {
    "id": "99Swc_4zTGuT"
   },
   "source": [
    "Загрузите данные о вероятности развития сердечного приступа. Описание датасета смотрите здесь: https://www.kaggle.com/datasets/fedesoriano/heart-failure-prediction."
   ]
  },
  {
   "cell_type": "code",
   "execution_count": null,
   "metadata": {
    "id": "uRhxotBrS4A3"
   },
   "outputs": [],
   "source": [
    "cancer = load_breast_cancer()"
   ]
  },
  {
   "cell_type": "markdown",
   "metadata": {
    "id": "B1vwdiGGTLCY"
   },
   "source": [
    "Разделите данные на обучающую и тестовую выборки в соотношении 80% / 20% без перемешивания."
   ]
  },
  {
   "cell_type": "code",
   "execution_count": null,
   "metadata": {
    "id": "_XXG-_ZoTLra"
   },
   "outputs": [],
   "source": [
    "X_train, X_test, y_train, y_test = train_test_split(cancer.data, cancer.target, shuffle=False)"
   ]
  },
  {
   "cell_type": "markdown",
   "metadata": {
    "id": "6kCZSqgFTL-i"
   },
   "source": [
    "Постройте следующие модели классификации:\n",
    "\n",
    "случайное предсказание (подбрасывание кубика)"
   ]
  },
  {
   "cell_type": "code",
   "execution_count": null,
   "metadata": {
    "id": "qDBOl2fXTPQx"
   },
   "outputs": [],
   "source": [
    "x = np.random.randint(0, 2, size=456)"
   ]
  },
  {
   "cell_type": "markdown",
   "metadata": {
    "id": "8D1BwrqNTP_4"
   },
   "source": [
    "логистическая регрессия (LogisticRegression);"
   ]
  },
  {
   "cell_type": "code",
   "execution_count": null,
   "metadata": {
    "colab": {
     "base_uri": "https://localhost:8080/"
    },
    "executionInfo": {
     "elapsed": 10,
     "status": "ok",
     "timestamp": 1668101224684,
     "user": {
      "displayName": "Aziz Mamadzhanov",
      "userId": "06961773856192677064"
     },
     "user_tz": -180
    },
    "id": "J74Bq4PdTR2p",
    "outputId": "8a1cdf99-c064-4f4f-a3b9-315e3cd08b61"
   },
   "outputs": [
    {
     "name": "stdout",
     "output_type": "stream",
     "text": [
      "Accuracy on the training set: 0.965\n",
      "Accuracy on the test set: 0.930\n",
      "              precision    recall  f1-score   support\n",
      "\n",
      "           0       0.79      0.97      0.87        35\n",
      "           1       0.99      0.92      0.95       108\n",
      "\n",
      "    accuracy                           0.93       143\n",
      "   macro avg       0.89      0.94      0.91       143\n",
      "weighted avg       0.94      0.93      0.93       143\n",
      "\n"
     ]
    },
    {
     "name": "stderr",
     "output_type": "stream",
     "text": [
      "/usr/local/lib/python3.7/dist-packages/sklearn/linear_model/_logistic.py:818: ConvergenceWarning: lbfgs failed to converge (status=1):\n",
      "STOP: TOTAL NO. of ITERATIONS REACHED LIMIT.\n",
      "\n",
      "Increase the number of iterations (max_iter) or scale the data as shown in:\n",
      "    https://scikit-learn.org/stable/modules/preprocessing.html\n",
      "Please also refer to the documentation for alternative solver options:\n",
      "    https://scikit-learn.org/stable/modules/linear_model.html#logistic-regression\n",
      "  extra_warning_msg=_LOGISTIC_SOLVER_CONVERGENCE_MSG,\n"
     ]
    }
   ],
   "source": [
    "log_reg = LogisticRegression()\n",
    "log_reg.fit(X_train, y_train)\n",
    "y_pred = log_reg.predict(X_test)\n",
    "fprlog, tprlog, _ = metrics.roc_curve(y_test,  y_pred)\n",
    "print('Accuracy on the training set: {:.3f}'.format(log_reg.score(X_train,y_train)))\n",
    "print('Accuracy on the test set: {:.3f}'.format(log_reg.score(X_test,y_test)))\n",
    "report = classification_report(y_test, y_pred)\n",
    "print(report)\n",
    "auc1 = metrics.roc_auc_score(y_test, y_pred)"
   ]
  },
  {
   "cell_type": "markdown",
   "metadata": {
    "id": "vtNI-CVoTSEZ"
   },
   "source": [
    "метод опорных векторов с линейным ядром (SVC(kernel='linear'));"
   ]
  },
  {
   "cell_type": "code",
   "execution_count": null,
   "metadata": {
    "colab": {
     "base_uri": "https://localhost:8080/"
    },
    "executionInfo": {
     "elapsed": 391,
     "status": "ok",
     "timestamp": 1668100895140,
     "user": {
      "displayName": "Aziz Mamadzhanov",
      "userId": "06961773856192677064"
     },
     "user_tz": -180
    },
    "id": "UVHSz05kTSXJ",
    "outputId": "783ddd70-426b-4c2e-a5e6-d9d9398669d9"
   },
   "outputs": [
    {
     "name": "stdout",
     "output_type": "stream",
     "text": [
      "acc on train dataset: 0.908\n",
      "acc on test dataset: 0.951\n",
      "              precision    recall  f1-score   support\n",
      "\n",
      "           0       0.89      0.91      0.90        35\n",
      "           1       0.97      0.96      0.97       108\n",
      "\n",
      "    accuracy                           0.95       143\n",
      "   macro avg       0.93      0.94      0.93       143\n",
      "weighted avg       0.95      0.95      0.95       143\n",
      "\n"
     ]
    }
   ],
   "source": [
    "svm= SVC()\n",
    "svm.fit(X_train, y_train)\n",
    "y_pred = svm.predict(X_test)\n",
    "fprsvc, tprsvc, _ = metrics.roc_curve(y_test,  y_pred)\n",
    "print('acc on train dataset: {:.3f}'.format(svm.score(X_train,y_train)))\n",
    "print('acc on test dataset: {:.3f}'.format(svm.score(X_test,y_test)))\n",
    "report = classification_report(y_test, y_pred)\n",
    "print(report)\n",
    "auc2 = metrics.roc_auc_score(y_test, y_pred)"
   ]
  },
  {
   "cell_type": "markdown",
   "metadata": {
    "id": "ynRgXX55TUOi"
   },
   "source": [
    "метод линейного дискриминантного анализа (LinearDiscriminantAnalysis)"
   ]
  },
  {
   "cell_type": "code",
   "execution_count": null,
   "metadata": {
    "colab": {
     "base_uri": "https://localhost:8080/"
    },
    "executionInfo": {
     "elapsed": 7,
     "status": "ok",
     "timestamp": 1668100902869,
     "user": {
      "displayName": "Aziz Mamadzhanov",
      "userId": "06961773856192677064"
     },
     "user_tz": -180
    },
    "id": "jZ3tNSfjTUa5",
    "outputId": "e4992b2a-c303-4f47-9ed7-0f0bcc938ce7"
   },
   "outputs": [
    {
     "name": "stdout",
     "output_type": "stream",
     "text": [
      "Test Accuracy = 97.2%\n",
      "Train Accuracy = 96.9%\n",
      "              precision    recall  f1-score   support\n",
      "\n",
      "           0       0.97      0.91      0.94        35\n",
      "           1       0.97      0.99      0.98       108\n",
      "\n",
      "    accuracy                           0.97       143\n",
      "   macro avg       0.97      0.95      0.96       143\n",
      "weighted avg       0.97      0.97      0.97       143\n",
      "\n"
     ]
    }
   ],
   "source": [
    "# create linear discriminant model object\n",
    "lda = LDA()\n",
    "#train classifier\n",
    "lda.fit(X_train, y_train)\n",
    "y_pred = lda.predict(X_test)\n",
    "fprlda, tprlda, _ = metrics.roc_curve(y_test,  y_pred)\n",
    "# print linear discriminant results\n",
    "print('Test Accuracy = %.1f%%' % (accuracy_score(y_test, lda.predict(X_test)) * 100))\n",
    "print('Train Accuracy = %.1f%%' % (accuracy_score(y_train, lda.predict(X_train)) * 100))\n",
    "report = classification_report(y_test, y_pred)\n",
    "print(report)\n",
    "auc3 = metrics.roc_auc_score(y_test, y_pred)"
   ]
  },
  {
   "cell_type": "markdown",
   "metadata": {
    "id": "i3yGykfQTWfp"
   },
   "source": [
    "метод k ближайших соседей (KNeighborsClassifier с двумя классами)."
   ]
  },
  {
   "cell_type": "code",
   "execution_count": null,
   "metadata": {
    "colab": {
     "base_uri": "https://localhost:8080/"
    },
    "executionInfo": {
     "elapsed": 1041,
     "status": "ok",
     "timestamp": 1668100911504,
     "user": {
      "displayName": "Aziz Mamadzhanov",
      "userId": "06961773856192677064"
     },
     "user_tz": -180
    },
    "id": "hFmB6N_XTW3a",
    "outputId": "0e6bdea1-42aa-4e27-abdd-7fb88cf1bf71"
   },
   "outputs": [
    {
     "name": "stdout",
     "output_type": "stream",
     "text": [
      "              precision    recall  f1-score   support\n",
      "\n",
      "           0       0.85      0.94      0.89        35\n",
      "           1       0.98      0.94      0.96       108\n",
      "\n",
      "    accuracy                           0.94       143\n",
      "   macro avg       0.91      0.94      0.93       143\n",
      "weighted avg       0.95      0.94      0.95       143\n",
      "\n",
      "Accuracy of the training set for 6NN: 0.946009\n",
      "Accuracy of the test set for 6NN: 0.930070\n"
     ]
    }
   ],
   "source": [
    "training_accuracy = []\n",
    "test_accuracy = []\n",
    "\n",
    "#try KNN for diffrent k nearest neighbor from 1 to 15\n",
    "neighbors_setting = range(1,15)\n",
    "\n",
    "for n_neighbors in neighbors_setting:\n",
    "    knn = KNeighborsClassifier(n_neighbors=n_neighbors)\n",
    "    knn.fit(X_train,y_train)\n",
    "    training_accuracy.append(knn.score(X_train, y_train))\n",
    "    test_accuracy.append(knn.score(X_test, y_test))\n",
    "\n",
    "y_pred = knn.predict(X_test)\n",
    "fprknn, tprknn, _ = metrics.roc_curve(y_test,  y_pred)\n",
    "report = classification_report(y_test, y_pred)\n",
    "print(report)\n",
    "\n",
    "print(\"Accuracy of the training set for 6NN: {:3f}\".format(training_accuracy[5]))\n",
    "print(\"Accuracy of the test set for 6NN: {:3f}\".format(test_accuracy[5]))\n",
    "auc4 = metrics.roc_auc_score(y_test, y_pred)"
   ]
  },
  {
   "cell_type": "markdown",
   "metadata": {
    "id": "hqLY6CEqTeNJ"
   },
   "source": [
    "На одном графике постройте ROC-кривые для каждой модели. Визуально определите самую эффективную и наименее пригодную модели. Чем ROC-кривая выше, тем модель более эффективна."
   ]
  },
  {
   "cell_type": "code",
   "execution_count": null,
   "metadata": {
    "colab": {
     "base_uri": "https://localhost:8080/",
     "height": 279
    },
    "executionInfo": {
     "elapsed": 1048,
     "status": "ok",
     "timestamp": 1668100809847,
     "user": {
      "displayName": "Aziz Mamadzhanov",
      "userId": "06961773856192677064"
     },
     "user_tz": -180
    },
    "id": "P24kc25pTefB",
    "outputId": "0cd6ba25-f223-4872-80a7-8478a3a1d2d1"
   },
   "outputs": [
    {
     "data": {
      "image/png": "[encoded data removed]",
      "text/plain": [
       "<Figure size 432x288 with 1 Axes>"
      ]
     },
     "metadata": {
      "needs_background": "light"
     },
     "output_type": "display_data"
    }
   ],
   "source": [
    "plt.plot(fprlog, tprlog, 'g')\n",
    "plt.plot(fprsvc, tprsvc, 'r')\n",
    "plt.plot(fprlda, tprlda, 'b')\n",
    "plt.plot(fprknn, tprknn, 'y')\n",
    "plt.ylabel('True Positive Rate')\n",
    "plt.xlabel('False Positive Rate')\n",
    "plt.show()"
   ]
  },
  {
   "cell_type": "markdown",
   "metadata": {
    "id": "dLyrkLNrTgMB"
   },
   "source": [
    "Выведите соответствующие значения AUC (площадь под ROC - кривой) и расположите модели в порядке пригодности."
   ]
  },
  {
   "cell_type": "code",
   "execution_count": null,
   "metadata": {
    "colab": {
     "base_uri": "https://localhost:8080/"
    },
    "executionInfo": {
     "elapsed": 298,
     "status": "ok",
     "timestamp": 1668100952551,
     "user": {
      "displayName": "Aziz Mamadzhanov",
      "userId": "06961773856192677064"
     },
     "user_tz": -180
    },
    "id": "aeMe0KfETgda",
    "outputId": "696c5f2c-3873-4d7b-96d5-f795d861b2e6"
   },
   "outputs": [
    {
     "name": "stdout",
     "output_type": "stream",
     "text": [
      "[0.9386243386243385, 0.9436507936507936, 0.9440476190476189, 0.9525132275132274]\n"
     ]
    }
   ],
   "source": [
    "print(sorted([auc1, auc2, auc3, auc4]))"
   ]
  }
 ],
 "metadata": {
  "colab": {
   "collapsed_sections": [],
   "provenance": []
  },
  "kernelspec": {
   "display_name": "Python 3 (ipykernel)",
   "language": "python",
   "name": "python3"
  },
  "language_info": {
   "codemirror_mode": {
    "name": "ipython",
    "version": 3
   },
   "file_extension": ".py",
   "mimetype": "text/x-python",
   "name": "python",
   "nbconvert_exporter": "python",
   "pygments_lexer": "ipython3",
   "version": "3.9.12"
  }
 },
 "nbformat": 4,
 "nbformat_minor": 1
}
