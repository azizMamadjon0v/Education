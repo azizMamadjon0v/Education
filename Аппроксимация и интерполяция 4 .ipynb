{
 "cells": [
  {
   "cell_type": "markdown",
   "id": "c701fc7c",
   "metadata": {},
   "source": [
    "Численные методы\n",
    "Аппроксимация и интерполяция функций"
   ]
  },
  {
   "cell_type": "code",
   "execution_count": 13,
   "id": "4c68383e",
   "metadata": {},
   "outputs": [],
   "source": [
    "import numpy as np\n",
    "import csv\n",
    "import matplotlib.pyplot as plt\n",
    "import scipy.interpolate\n",
    "from scipy import stats\n",
    "import scipy as sp\n",
    "from __future__ import print_function\n",
    "import math\n",
    "from scipy.optimize import curve_fit"
   ]
  },
  {
   "cell_type": "markdown",
   "id": "9f51f738",
   "metadata": {},
   "source": [
    "Задача 1\n",
    "\n",
    "Создать csv файл с значениями x и y\n",
    "\n",
    "Получить значения x и y из csv файла"
   ]
  },
  {
   "cell_type": "code",
   "execution_count": 2,
   "id": "266bb6de",
   "metadata": {},
   "outputs": [
    {
     "name": "stdout",
     "output_type": "stream",
     "text": [
      "Введите число строк: 100\n",
      "Введите точку интерполяции: 0.9\n"
     ]
    }
   ],
   "source": [
    "number_of_rows = int(input(\"Введите число строк: \"))\n",
    "user_interpolation_point = float(input('Введите точку интерполяции: '))\n",
    "with open('MG.csv', 'w') as f: \n",
    "    writer = csv.writer(f)\n",
    "    xy = np.random.rand(2, number_of_rows)\n",
    "    writer.writerow(xy[0])\n",
    "    writer.writerow(xy[1])"
   ]
  },
  {
   "cell_type": "code",
   "execution_count": 3,
   "id": "da338a96",
   "metadata": {},
   "outputs": [],
   "source": [
    "file = open('MG.csv')\n",
    "csvreader = csv.reader(file)\n",
    "rows = []\n",
    "for file_row in csvreader:\n",
    "        if len(file_row) > 1:\n",
    "            rows.append(file_row)        \n",
    "x_file = [float(xelements) for xelements in rows[0]]\n",
    "y_file = [float(yelements) for yelements in  rows[1]]"
   ]
  },
  {
   "cell_type": "markdown",
   "id": "824b8ee8",
   "metadata": {},
   "source": [
    "Задание 1\n",
    "\n",
    "Написать (добавить в собственный класс/библиотеку) следующие\n",
    "функции:"
   ]
  },
  {
   "cell_type": "markdown",
   "id": "65672451",
   "metadata": {},
   "source": [
    "1. Интерполяция методом Лагранжа (для равноотстоящих и\n",
    "неравноотстоящих узлов)\n",
    "\n",
    "Формат входных данных:\n",
    "\n",
    "а) CSV файл с массивом точек в формате [x i ,y i ] или массив точек в\n",
    "формате [x,y];\n",
    "\n",
    "\n",
    "Формат выходных данных:\n",
    "\n",
    "а) Массив точек в формате [x i , y i , f i ] (fi – значение интерполированной\n",
    "функции в точках) +\n",
    "\n",
    "б) Интерполяционный многочлен Лагранжа - в формате строки\n",
    "содержащий каноничную форму многочлена с вычисленными\n",
    "коэффициентами, отсортированный в порядке убывания степеней x,\n",
    "для которых определенные для функции коэффициенты отличны от\n",
    "нуля)"
   ]
  },
  {
   "cell_type": "code",
   "execution_count": 4,
   "id": "01fd9dc7",
   "metadata": {},
   "outputs": [
    {
     "name": "stdout",
     "output_type": "stream",
     "text": [
      "32169153686.944435\n"
     ]
    },
    {
     "data": {
      "image/png": "[encoded data removed]",
      "text/plain": [
       "<Figure size 432x288 with 1 Axes>"
      ]
     },
     "metadata": {
      "needs_background": "light"
     },
     "output_type": "display_data"
    }
   ],
   "source": [
    "def lagranz(x,y,t):\n",
    "    z=0\n",
    "    for j in range(len(y)):\n",
    "        p1=1; p2=1\n",
    "        for i in range(len(x)):\n",
    "            if i==j:\n",
    "                p1=p1*1; p2=p2*1   \n",
    "            else: \n",
    "                p1=p1*(t-x[i])\n",
    "                p2=p2*(x[j]-x[i])\n",
    "        z=z+y[j]*p1/p2\n",
    "    return z\n",
    "xnew=np.linspace(np.min(x_file),np.max(x_file),100)\n",
    "ynew=[lagranz(x_file,y_file,i) for i in xnew]\n",
    "print(lagranz(x_file, y_file, user_interpolation_point))\n",
    "plt.plot(x_file,y_file,'o',xnew,ynew)\n",
    "plt.grid(True)\n",
    "plt.show()"
   ]
  },
  {
   "cell_type": "markdown",
   "id": "9ee69dfe",
   "metadata": {},
   "source": [
    "2. Интерполяция методом Ньютона (Первый и второй\n",
    "интерполяционный многочлен Ньютона)\n",
    "\n",
    "Формат входных данных:\n",
    "\n",
    "а) CSV файл с массивом точек в формате [x i ,y i ] или массив точек в\n",
    "формате [x,y];\n",
    "\n",
    "Формат выходных данных:\n",
    "\n",
    "а) Массив точек в формате [x i , y i , f i ] (fi – значение интерполированной\n",
    "функции в точках) +-\n",
    "\n",
    "б) Интерполяционный многочлен Ньютона - в формате строки\n",
    "содержащий каноничную форму многочлена с вычисленными\n",
    "коэффициентами, отсортированный в порядке убывания степеней x,\n",
    "для которых определенные для функции коэффициенты отличны от\n",
    "нуля)"
   ]
  },
  {
   "cell_type": "markdown",
   "id": "4ed2e464",
   "metadata": {},
   "source": [
    "4. Аппроксимация линейной функцией\n",
    "\n",
    "Формат входных данных:\n",
    "\n",
    "а) CSV файл с массивом точек в формате [x i ,y i ] или массив точек в\n",
    "формате [x,y];\n",
    "\n",
    "\n",
    "\n",
    "Формат выходных данных:\n",
    "\n",
    "а) Массив точек в формате [x i , y i , f i ] (fi – значение аппроксимирующей\n",
    "функции в точках)\n",
    "\n",
    "б) Вид аппроксимирующей функции - в формате строки содержащий\n",
    "каноничную форму аппроксимирующей функции с вычисленными\n",
    "коэффициентами отсортированный в порядке убывания степеней x, для\n",
    "которых определенные для функции коэффициенты отличны от нуля)\n",
    "\n",
    "в) Величина дисперсии (формула вычисления:)"
   ]
  },
  {
   "cell_type": "code",
   "execution_count": 5,
   "id": "59b767c1",
   "metadata": {},
   "outputs": [
    {
     "name": "stdout",
     "output_type": "stream",
     "text": [
      "Значение интерполированной функции в точке 0.9 равна 32169153686.93237\n"
     ]
    }
   ],
   "source": [
    "def _poly_newton_coefficient(x, y):\n",
    "\n",
    "    m = len(x)\n",
    "\n",
    "    x = np.copy(x)\n",
    "    a = np.copy(y)\n",
    "    for k in range(1, m):\n",
    "        a[k:m] = (a[k:m] - a[k - 1])/(x[k:m] - x[k - 1])\n",
    "\n",
    "    return a\n",
    "\n",
    "def newton_polynomial(x_data, y_data, x):\n",
    "\n",
    "    a = _poly_newton_coefficient(x_data, y_data)\n",
    "    n = len(x_data) - 1  \n",
    "    p = a[n]\n",
    "\n",
    "    for k in range(1, n + 1):\n",
    "        p = a[n - k] + (x - x_data[n - k])*p\n",
    "\n",
    "    return p\n",
    "print(\"Значение интерполированной функции в точке\", user_interpolation_point, \"равна\", newton_polynomial(x_file,y_file, user_interpolation_point))"
   ]
  },
  {
   "cell_type": "code",
   "execution_count": 6,
   "id": "c7cb0e1c",
   "metadata": {},
   "outputs": [
    {
     "data": {
      "text/plain": [
       "[<matplotlib.lines.Line2D at 0x1cd99adceb0>]"
      ]
     },
     "execution_count": 6,
     "metadata": {},
     "output_type": "execute_result"
    },
    {
     "data": {
      "image/png": "[encoded data removed]",
      "text/plain": [
       "<Figure size 864x576 with 1 Axes>"
      ]
     },
     "metadata": {
      "needs_background": "light"
     },
     "output_type": "display_data"
    }
   ],
   "source": [
    "def divided_diff(x, y):\n",
    "  \n",
    "    n = len(y)\n",
    "    coef = np.zeros([n, n])\n",
    " \n",
    "    coef[:,0] = y\n",
    "    \n",
    "    for j in range(1,n):\n",
    "        for i in range(n-j):\n",
    "            coef[i][j] = \\\n",
    "           (coef[i+1][j-1] - coef[i][j-1]) / (x[i+j]-x[i])\n",
    "            \n",
    "    return coef\n",
    "\n",
    "def newton_poly(coef, x_data, x):\n",
    "\n",
    "    n = len(x_data) - 1 \n",
    "    p = coef[n]\n",
    "    for k in range(1,n+1):\n",
    "        p = coef[n-k] + (x -x_data[n-k])*p\n",
    "    return p\n",
    "\n",
    "\n",
    "a_s = divided_diff(x_file, y_file)[0, :]\n",
    "\n",
    "\n",
    "x_new = np.arange(-5, 2.1, .1)\n",
    "y_new = newton_poly(a_s, x_file, x_new)\n",
    "\n",
    "plt.figure(figsize = (12, 8))\n",
    "plt.plot(x_file, y_file, 'bo')\n",
    "plt.plot(x_new, y_new)"
   ]
  },
  {
   "cell_type": "markdown",
   "id": "95c1686c",
   "metadata": {},
   "source": [
    "Интерполяция (numpy, Лагранж)"
   ]
  },
  {
   "cell_type": "code",
   "execution_count": 7,
   "id": "60fc1305",
   "metadata": {},
   "outputs": [
    {
     "data": {
      "image/png": "[encoded data removed]",
      "text/plain": [
       "<Figure size 432x288 with 1 Axes>"
      ]
     },
     "metadata": {
      "needs_background": "light"
     },
     "output_type": "display_data"
    }
   ],
   "source": [
    "x_parabola = np.array(x_file) \n",
    "y_parabola = np.array(y_file) \n",
    "plt.figure()\n",
    "u = plt.plot(x_parabola,y_parabola,'ro') \n",
    "t = np.linspace(0, 1, len(x_parabola)) \n",
    "pxLagrange = scipy.interpolate.lagrange(t, x_parabola) \n",
    "pyLagrange = scipy.interpolate.lagrange(t, y_parabola) \n",
    "n = 100\n",
    "ts = np.linspace(t[0],t[-1],n)\n",
    "xLagrange = pxLagrange(ts) \n",
    "yLagrange = pyLagrange(ts) \n",
    "plt.plot(xLagrange, yLagrange,'b-',label = \"Polynomial\")\n",
    "plt.show()"
   ]
  },
  {
   "cell_type": "markdown",
   "id": "5809a46a",
   "metadata": {},
   "source": [
    "5. Аппроксимация квадратичной функцией\n",
    "\n",
    "Формат входных данных:\n",
    "а) CSV файл с массивом точек в формате [x i ,y i ] или массив точек в\n",
    "формате [x,y];\n",
    "\n",
    "Формат выходных данных:\n",
    "а) Массив точек в формате [x i , y i , f i ] (fi – значение аппроксимирующей\n",
    "функции в точках)\n",
    "\n",
    "б) Вид аппроксимирующей функции - в формате строки содержащий\n",
    "каноничную форму аппроксимирующей функции с вычисленными\n",
    "коэффициентами отсортированный в порядке убывания степеней x, для\n",
    "которых определенные для функции коэффициенты отличны от нуля)\n",
    "\n",
    "в) Величина дисперсии (формула вычисления: )"
   ]
  },
  {
   "cell_type": "code",
   "execution_count": 8,
   "id": "c9e15018",
   "metadata": {
    "scrolled": true
   },
   "outputs": [
    {
     "name": "stdout",
     "output_type": "stream",
     "text": [
      "Коэффециенты\n",
      "-0.14843480748644486 0.586760670980061\n"
     ]
    },
    {
     "data": {
      "image/png": "[encoded data removed]",
      "text/plain": [
       "<Figure size 432x288 with 1 Axes>"
      ]
     },
     "metadata": {
      "needs_background": "light"
     },
     "output_type": "display_data"
    }
   ],
   "source": [
    "X = x_file\n",
    "Y = y_file\n",
    "mean_x = np.mean(X)\n",
    "mean_y = np.mean(Y)\n",
    " \n",
    "\n",
    "n = len(X)\n",
    "\n",
    "\n",
    "numer = 0\n",
    "denom = 0\n",
    "for i in range(n):\n",
    "    numer += (X[i] - mean_x) * (Y[i] - mean_y)\n",
    "    denom += (X[i] - mean_x) ** 2\n",
    "    m = numer / denom\n",
    "    c = mean_y - (m * mean_x)\n",
    " \n",
    "\n",
    "print(\"Коэффециенты\")\n",
    "print(m, c)\n",
    "\n",
    "\n",
    " \n",
    "max_x = np.max(X) + 100\n",
    "min_x = np.min(X) - 100\n",
    " \n",
    "\n",
    "x = np.linspace(min_x, max_x, 1000)\n",
    "y = c + m * x\n",
    "\n",
    "\n",
    "plt.plot(x, y, color='#58b970', label='Линия регрессии')\n",
    "\n",
    "plt.scatter(X, Y, c='#ef5423', label='Диаграмма рассеяния')\n",
    " \n",
    "plt.xlabel('x')\n",
    "plt.ylabel('y')\n",
    "plt.legend()\n",
    "plt.show()"
   ]
  },
  {
   "cell_type": "markdown",
   "id": "75a2f486",
   "metadata": {},
   "source": [
    "Гиперболическая аппроксимация"
   ]
  },
  {
   "cell_type": "code",
   "execution_count": 9,
   "id": "14f67b24",
   "metadata": {},
   "outputs": [
    {
     "data": {
      "image/png": "[encoded data removed]",
      "text/plain": [
       "<Figure size 432x288 with 1 Axes>"
      ]
     },
     "metadata": {
      "needs_background": "light"
     },
     "output_type": "display_data"
    }
   ],
   "source": [
    "import matplotlib as mpl\n",
    "\n",
    "def mnkGP(x,y): \n",
    "              n=len(x) \n",
    "              s=sum(y) \n",
    "              s1=sum([1/x[i] for i in  range(0,n)]) \n",
    "              s2=sum([(1/x[i])**2 for i in  range(0,n)]) \n",
    "              s3=sum([y[i]/x[i]  for i in range(0,n)])                     \n",
    "              a= round((s*s2-s1*s3)/(n*s2-s1**2),3) \n",
    "              b=round((n*s3-s1*s)/(n*s2-s1**2),3)\n",
    "              s4=[a+b/x[i] for i in range(0,n)]          \n",
    "              so=round(sum([abs(y[i] -s4[i]) for i in range(0,n)])/(n*sum(y))*100,3)   \n",
    "              plt.title('Аппроксимация гиперболой Y='+str(a)+'+'+str(b)+'/x\\n Средняя ошибка--'+str(so)+'%',size=14)\n",
    "              plt.xlabel('Координата X', size=14)\n",
    "              plt.ylabel('Координата Y', size=14)\n",
    "              plt.plot(x, y, color='r', linestyle=' ', marker='o', label='Data(x,y)')\n",
    "              plt.plot(x, s4, color='g', linewidth=2, label='Data(x,f(x)=a+b/x')\n",
    "              plt.legend(loc='best')\n",
    "              plt.grid(True)\n",
    "              plt.show()\n",
    "x = x_file \n",
    "y = y_file\n",
    "mnkGP(x,y)"
   ]
  },
  {
   "cell_type": "markdown",
   "id": "bbf27b7b",
   "metadata": {},
   "source": [
    "Аппроксимация (МНК) numpy"
   ]
  },
  {
   "cell_type": "code",
   "execution_count": 10,
   "id": "e4085f9c",
   "metadata": {},
   "outputs": [
    {
     "data": {
      "image/png": "[encoded data removed]",
      "text/plain": [
       "<Figure size 432x288 with 1 Axes>"
      ]
     },
     "metadata": {
      "needs_background": "light"
     },
     "output_type": "display_data"
    }
   ],
   "source": [
    "x = np.array(x_file)\n",
    "y = np.array(y_file)\n",
    "A = np.vstack([x, np.ones(len(x))]).T\n",
    "m, c = np.linalg.lstsq(A, y, rcond=None)[0]\n",
    "_ = plt.plot(x, y, 'o', label='Исходные данные', markersize=10)\n",
    "_ = plt.plot(x, m*x + c, 'r', label='Аппроксимирующая линия')\n",
    "_ = plt.legend()\n",
    "plt.show()"
   ]
  },
  {
   "cell_type": "markdown",
   "id": "e2e84923",
   "metadata": {},
   "source": [
    "Аппроксимация функцией нормального распределения (с подгонкой scipy)"
   ]
  },
  {
   "cell_type": "code",
   "execution_count": 14,
   "id": "94dd34ba",
   "metadata": {
    "scrolled": true
   },
   "outputs": [
    {
     "data": {
      "text/plain": [
       "<matplotlib.legend.Legend at 0x1cd99b20550>"
      ]
     },
     "execution_count": 14,
     "metadata": {},
     "output_type": "execute_result"
    },
    {
     "data": {
      "image/png": "[encoded data removed]",
      "text/plain": [
       "<Figure size 432x288 with 1 Axes>"
      ]
     },
     "metadata": {
      "needs_background": "light"
     },
     "output_type": "display_data"
    }
   ],
   "source": [
    "def gauss(x, H, A, x0, sigma):\n",
    "    return H + A * np.exp(-(x - x0) ** 2 / (2 * sigma ** 2))\n",
    "\n",
    "xdata = np.asarray(x_file)\n",
    "ydata = np.asarray(y_file)\n",
    "plt.plot(xdata, ydata, 'o')\n",
    "\n",
    "def Gauss(x, A, B):\n",
    "    y = A*np.exp(-1*B*x**2)\n",
    "    return y\n",
    "parameters, covariance = curve_fit(Gauss, xdata, ydata)\n",
    "  \n",
    "fit_A = parameters[0]\n",
    "fit_B = parameters[1]\n",
    "  \n",
    "fit_y = Gauss(xdata, fit_A, fit_B)\n",
    "plt.plot(xdata, ydata, 'o', label='исходные данные')\n",
    "plt.plot(xdata, fit_y, '-', label='подгонка')\n",
    "plt.legend()"
   ]
  },
  {
   "cell_type": "markdown",
   "id": "84ccdfd9",
   "metadata": {},
   "source": [
    "Аппроксимация функцией нормального распределения (без подгонки scipy)"
   ]
  },
  {
   "cell_type": "code",
   "execution_count": 16,
   "id": "74f41f1d",
   "metadata": {},
   "outputs": [
    {
     "name": "stdout",
     "output_type": "stream",
     "text": [
      "Введите превую точку: 1\n",
      "Введите вторую точку: 3\n",
      "Введите шаг: 0.5\n",
      "[0.0922873096181894, -0.2386299462631369, 0.6007370053151277]\n",
      "[0.0922873096181894, 0.2386299462631369, 0.6007370053151277]\n"
     ]
    },
    {
     "data": {
      "text/plain": [
       "<matplotlib.legend.Legend at 0x1cd9a5b03a0>"
      ]
     },
     "execution_count": 16,
     "metadata": {},
     "output_type": "execute_result"
    },
    {
     "data": {
      "image/png": "[encoded data removed]",
      "text/plain": [
       "<Figure size 432x288 with 1 Axes>"
      ]
     },
     "metadata": {
      "needs_background": "light"
     },
     "output_type": "display_data"
    }
   ],
   "source": [
    "#функции для решения СЛАУ\n",
    "def det22(matrix): \n",
    "    return matrix[0][0] * matrix[1][1] - matrix[0][1] * matrix[1][0]\n",
    " \n",
    "def minor_matrix(matrix, i, j): \n",
    "    tmp = [row for k, row in enumerate(matrix) if k != i]\n",
    "    tmp = [col for k, col in enumerate(zip(*tmp)) if k != j]\n",
    "    return tmp\n",
    " \n",
    "def Determinant_matrix(matrix): \n",
    "    if (len(matrix)) == (len(matrix[0])):\n",
    "        size = len(matrix)\n",
    "        if size == 2:\n",
    "            return det22(matrix)\n",
    "        return sum((-1) ** j * matrix[0][j] * Determinant_matrix(minor_matrix(matrix, 0, j))\n",
    "                   for j in range(size))\n",
    "\n",
    "def Cramers_rule(matrix, vector):\n",
    "    det = Determinant_matrix(matrix)\n",
    "    if det != 0:\n",
    "        matrix_a = [[], [], []]\n",
    "        matrix_b = [[], [], []]\n",
    "        matrix_c = [[], [], []]\n",
    "        \n",
    "        for i in range(len(matrix)):\n",
    "            matrix_a[i].append(vector[i])\n",
    "            matrix_a[i].append(matrix[i][1])\n",
    "            matrix_a[i].append(matrix[i][2])\n",
    "            \n",
    "            matrix_b[i].append(matrix[i][0])\n",
    "            matrix_b[i].append(vector[i])\n",
    "            matrix_b[i].append(matrix[i][2])\n",
    "            \n",
    "            matrix_c[i].append(matrix[i][0])\n",
    "            matrix_c[i].append(matrix[i][1])\n",
    "            matrix_c[i].append(vector[i])\n",
    "        \n",
    "        solution = []\n",
    "        solution.append(Determinant_matrix(matrix_a)/det)\n",
    "        solution.append(Determinant_matrix(matrix_b)/det)\n",
    "        solution.append(Determinant_matrix(matrix_c)/det)\n",
    "        return solution\n",
    "    \n",
    "    else:\n",
    "        solution = [0, 0, 0]\n",
    "        return solution\n",
    "   \n",
    "# сама функция\n",
    "def normal_distribution(x, y, interval_0, interval_1, step):\n",
    "    normal_massive_x = []\n",
    "    normal_massive_y = []\n",
    "    xx = interval_0\n",
    "    a = [[],[],[]]\n",
    "    b = []\n",
    "    s1 = 0; s2 = 0; s3 = 0; s4 = 0; s5 = 0; s6 = 0; s7 = 0;\n",
    "    for i in range(len(x)):\n",
    "        s1 = s1 + x[i] ** 4\n",
    "        s2 = s2 + x[i] ** 3\n",
    "        s3 = s3 + x[i] ** 2\n",
    "        s4 = s4 + x[i]\n",
    "        s5 = s5 + (x[i] ** 2) * y[i]\n",
    "        s6 = s6 + x[i] * y[i]\n",
    "        s7 = s7 + y[i]\n",
    "        \n",
    "    a[0].append(s1)\n",
    "    a[0].append(s2)\n",
    "    a[0].append(s3)\n",
    "    \n",
    "    a[1].append(s2)\n",
    "    a[1].append(s3)\n",
    "    a[1].append(s4)\n",
    "    \n",
    "    a[2].append(s3)\n",
    "    a[2].append(s4)\n",
    "    a[2].append(len(x))\n",
    "    \n",
    "    b.append(s5)\n",
    "    b.append(s6)\n",
    "    b.append(s7)\n",
    "    \n",
    "    a_1 = Cramers_rule(a, b) \n",
    "    print(a_1)\n",
    "    \n",
    "    for i in range(len(a_1)):\n",
    "        if a_1[i] < 0:\n",
    "            a_1[i] = a_1[i] * (-1)\n",
    "    print(a_1)\n",
    "    \n",
    "    for r in range(0, int((interval_1 - interval_0) / step) + 1):\n",
    "        try: \n",
    "            yy = a_1[0] * math.e ** (-(((xx - a_1[1]) ** 2)/a_1[2] ** 2))\n",
    "        except ZeroDivisionError:\n",
    "            yy = 0\n",
    "        normal_massive_x.append(xx)\n",
    "        normal_massive_y.append(yy)\n",
    "        xx = xx + step\n",
    "    return normal_massive_x, normal_massive_y\n",
    "\n",
    "a = normal_distribution(x_file, y_file, float(input(\"Введите превую точку: \")), float(input(\"Введите вторую точку: \")), float(input(\"Введите шаг: \")))\n",
    "\n",
    "plt.plot(x_file, y_file, 'o', label='исходные данные')\n",
    "plt.plot(a[0], a[1], '-', label='без подгонки')\n",
    "plt.legend()"
   ]
  },
  {
   "cell_type": "code",
   "execution_count": null,
   "id": "84d4faf7",
   "metadata": {},
   "outputs": [],
   "source": []
  }
 ],
 "metadata": {
  "kernelspec": {
   "display_name": "Python 3 (ipykernel)",
   "language": "python",
   "name": "python3"
  },
  "language_info": {
   "codemirror_mode": {
    "name": "ipython",
    "version": 3
   },
   "file_extension": ".py",
   "mimetype": "text/x-python",
   "name": "python",
   "nbconvert_exporter": "python",
   "pygments_lexer": "ipython3",
   "version": "3.9.12"
  }
 },
 "nbformat": 4,
 "nbformat_minor": 5
}
