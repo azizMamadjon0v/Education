{
 "cells": [
  {
   "cell_type": "markdown",
   "id": "e6feaa78",
   "metadata": {},
   "source": [
    "Курсовая работа по теории вероятностей и математической статистике\n",
    "\n",
    "Проверка гипотезы о нормальном распределении логарифмической\n",
    "доходности по критерию Шапиро-Франчиа\n",
    "\n",
    "Вид исследуемых данных:\n",
    "\n",
    "Котировки акций компаний, входящих в индекс МосБиржи голубых фишек (MOEXBC)\n",
    "\n",
    "Мамаджанов Азиз"
   ]
  },
  {
   "cell_type": "code",
   "execution_count": 1,
   "id": "9b2b531d",
   "metadata": {},
   "outputs": [],
   "source": [
    "from scipy.stats import kstest\n",
    "from statsmodels.distributions.empirical_distribution import ECDF\n",
    "\n",
    "import time\n",
    "import pandas as pd\n",
    "import numpy as np\n",
    "import matplotlib.pyplot as plt\n",
    "import scipy.stats as sts"
   ]
  },
  {
   "cell_type": "markdown",
   "id": "968f5fc8",
   "metadata": {},
   "source": [
    "Количество торговых дней"
   ]
  },
  {
   "cell_type": "code",
   "execution_count": 2,
   "id": "1d1721fa",
   "metadata": {
    "scrolled": true
   },
   "outputs": [
    {
     "name": "stdout",
     "output_type": "stream",
     "text": [
      "0.3658452033996582\n"
     ]
    }
   ],
   "source": [
    "def company_tables(single_ticker: str) -> pd.DataFrame:\n",
    "    '''\n",
    "    Чтение файлов\n",
    "    '''\n",
    "    ticker_file = pd.read_csv(f'{single_ticker}.csv', sep=',') \n",
    "    ticker_file['Date'] = pd.to_datetime(ticker_file['Date'], dayfirst=1,infer_datetime_format=1) \n",
    "    return ticker_file\n",
    "\n",
    "\n",
    "def t_d_table(tickers_list: list) -> pd.DataFrame:\n",
    "    '''\n",
    "    Создание таблицы с временными промежутоками для каждого тикера\n",
    "    '''\n",
    "    trading_days_list = [] \n",
    "    for el in tickers_list:\n",
    "        trading_days_list.append(company_tables(el).groupby(company_tables(el)['Date'].dt.year)['Date'].count())\n",
    "    year_dict = dict.fromkeys(list(company_tables(el)['Date'].dt.year.unique()))\n",
    "    \n",
    "    for i in year_dict.keys():\n",
    "        year_dict[i] = tuple(trading_days_list[el_td][i] for el_td in range(len(trading_days_list)))\n",
    "    return pd.DataFrame(year_dict, index=tickers_list)\n",
    "\n",
    "\n",
    "st_td1 = time.time()\n",
    "user_companies = \"GAZP SBER LKOH YNDX GMKN NVTK ROSN POLY PLZL MGNT TATN SNGS ALRS NLMK\".split()\n",
    "t_d_table(user_companies).to_csv(f'Количество торговых дней.csv')\n",
    "\n",
    "st_td2 = time.time()\n",
    "print(st_td2 - st_td1)"
   ]
  },
  {
   "cell_type": "markdown",
   "id": "ca787223",
   "metadata": {},
   "source": [
    "Аномальные скачки"
   ]
  },
  {
   "cell_type": "code",
   "execution_count": 3,
   "id": "2b9a6756",
   "metadata": {},
   "outputs": [
    {
     "name": "stdout",
     "output_type": "stream",
     "text": [
      "2.087270498275757\n"
     ]
    },
    {
     "data": {
      "image/png": "[encoded data removed]",
      "text/plain": [
       "<Figure size 432x288 with 1 Axes>"
      ]
     },
     "metadata": {
      "needs_background": "light"
     },
     "output_type": "display_data"
    }
   ],
   "source": [
    "dev_time1 = time.time()\n",
    "\n",
    "def max_deviation(ticker_year: int, ticker_file) -> float:\n",
    "    '''\n",
    "    Нахождение максимального отклонения по годам\n",
    "    '''\n",
    "    ticker_df = pd.read_csv(ticker_file, sep=\",\")\n",
    "    date_values = list()\n",
    "    for i in range(len(ticker_df['Date'])):\n",
    "        date_values.append(int(str(ticker_df['Date'][i])[:4]))\n",
    "    ticker_df['Date'] = date_values\n",
    "    \n",
    "    indexes = tuple(np.where(ticker_df['Date'] == ticker_year)[0])[:-1]\n",
    "    percents = tuple(round(ticker_df['Close'][el + 1] / ticker_df['Close'][el] * 100 - 100, 2) for el in indexes)\n",
    "    return max(percents)\n",
    "\n",
    "\n",
    "years_company = range(2017, 2022)\n",
    "tickers_dfMax = pd.DataFrame() \n",
    "tickers_dfMax['Ticker'] = user_companies\n",
    "\n",
    "for el in years_company: \n",
    "    max_deviation_list = []\n",
    "    for i in user_companies:\n",
    "        max_deviation_list.append(max_deviation(el, f'{i}.csv'))\n",
    "    tickers_dfMax[str(el)] = max_deviation_list\n",
    "    \n",
    "dev_time2 = time.time()\n",
    "print(dev_time2 - dev_time1)\n",
    "\n",
    "tickers_dfMax.to_csv(f'Скачки вверх.csv')\n",
    "\n",
    "def min_deviation(ticker_year: int, ticker_file) -> float:\n",
    "    '''\n",
    "    Нахождение минимального отклонения по годам\n",
    "    '''\n",
    "    ticker_df = pd.read_csv(ticker_file, sep=\",\")\n",
    "    date_values = list()\n",
    "    for i in range(len(ticker_df['Date'])):\n",
    "        date_values.append(int(str(ticker_df['Date'][i])[:4]))\n",
    "    ticker_df['Date'] = date_values\n",
    "    indexes = tuple(np.where(ticker_df['Date'] == ticker_year)[0])[:-1]\n",
    "    percents = tuple(round(ticker_df['Close'][i + 1] / ticker_df['Close'][i] * 100 - 100, 2) for i in indexes)\n",
    "    return min(percents)\n",
    "\n",
    "tickers_dfMin = pd.DataFrame() \n",
    "tickers_dfMin['Ticker'] = user_companies\n",
    "\n",
    "for el in years_company: \n",
    "    min_deviation_list = []\n",
    "    for i in user_companies:\n",
    "        min_deviation_list.append(min_deviation(el, f'{i}.csv'))\n",
    "    tickers_dfMin[str(el)] = min_deviation_list\n",
    "\n",
    "tickers_dfMin.to_csv(f'Скачки вниз.csv')\n",
    "\n",
    "SNGS = company_tables('SNGS')\n",
    "plt.plot(SNGS['Date'], SNGS['Adj Close'])\n",
    "plt.title(f'График цен закрытия тикера SNGS')\n",
    "plt.grid(True)\n",
    "plt.show()"
   ]
  },
  {
   "cell_type": "markdown",
   "id": "681cb4aa",
   "metadata": {},
   "source": [
    "Процентили нормального распределния"
   ]
  },
  {
   "cell_type": "code",
   "execution_count": 4,
   "id": "726dd02b",
   "metadata": {},
   "outputs": [
    {
     "name": "stdout",
     "output_type": "stream",
     "text": [
      "0.010000467300415039\n"
     ]
    },
    {
     "data": {
      "text/html": [
       "<div>\n",
       "<style scoped>\n",
       "    .dataframe tbody tr th:only-of-type {\n",
       "        vertical-align: middle;\n",
       "    }\n",
       "\n",
       "    .dataframe tbody tr th {\n",
       "        vertical-align: top;\n",
       "    }\n",
       "\n",
       "    .dataframe thead th {\n",
       "        text-align: right;\n",
       "    }\n",
       "</style>\n",
       "<table border=\"1\" class=\"dataframe\">\n",
       "  <thead>\n",
       "    <tr style=\"text-align: right;\">\n",
       "      <th></th>\n",
       "      <th>Персентиль</th>\n",
       "      <th>Значение</th>\n",
       "    </tr>\n",
       "  </thead>\n",
       "  <tbody>\n",
       "    <tr>\n",
       "      <th>0</th>\n",
       "      <td>0.00</td>\n",
       "      <td>-inf</td>\n",
       "    </tr>\n",
       "    <tr>\n",
       "      <th>1</th>\n",
       "      <td>0.05</td>\n",
       "      <td>-1.644854</td>\n",
       "    </tr>\n",
       "    <tr>\n",
       "      <th>2</th>\n",
       "      <td>0.10</td>\n",
       "      <td>-1.281552</td>\n",
       "    </tr>\n",
       "    <tr>\n",
       "      <th>3</th>\n",
       "      <td>0.15</td>\n",
       "      <td>-1.036433</td>\n",
       "    </tr>\n",
       "    <tr>\n",
       "      <th>4</th>\n",
       "      <td>0.20</td>\n",
       "      <td>-0.841621</td>\n",
       "    </tr>\n",
       "    <tr>\n",
       "      <th>5</th>\n",
       "      <td>0.25</td>\n",
       "      <td>-0.674490</td>\n",
       "    </tr>\n",
       "    <tr>\n",
       "      <th>6</th>\n",
       "      <td>0.30</td>\n",
       "      <td>-0.524401</td>\n",
       "    </tr>\n",
       "    <tr>\n",
       "      <th>7</th>\n",
       "      <td>0.35</td>\n",
       "      <td>-0.385320</td>\n",
       "    </tr>\n",
       "    <tr>\n",
       "      <th>8</th>\n",
       "      <td>0.40</td>\n",
       "      <td>-0.253347</td>\n",
       "    </tr>\n",
       "    <tr>\n",
       "      <th>9</th>\n",
       "      <td>0.45</td>\n",
       "      <td>-0.125661</td>\n",
       "    </tr>\n",
       "    <tr>\n",
       "      <th>10</th>\n",
       "      <td>0.50</td>\n",
       "      <td>0.000000</td>\n",
       "    </tr>\n",
       "    <tr>\n",
       "      <th>11</th>\n",
       "      <td>0.55</td>\n",
       "      <td>0.125661</td>\n",
       "    </tr>\n",
       "    <tr>\n",
       "      <th>12</th>\n",
       "      <td>0.60</td>\n",
       "      <td>0.253347</td>\n",
       "    </tr>\n",
       "    <tr>\n",
       "      <th>13</th>\n",
       "      <td>0.65</td>\n",
       "      <td>0.385320</td>\n",
       "    </tr>\n",
       "    <tr>\n",
       "      <th>14</th>\n",
       "      <td>0.70</td>\n",
       "      <td>0.524401</td>\n",
       "    </tr>\n",
       "    <tr>\n",
       "      <th>15</th>\n",
       "      <td>0.75</td>\n",
       "      <td>0.674490</td>\n",
       "    </tr>\n",
       "    <tr>\n",
       "      <th>16</th>\n",
       "      <td>0.80</td>\n",
       "      <td>0.841621</td>\n",
       "    </tr>\n",
       "    <tr>\n",
       "      <th>17</th>\n",
       "      <td>0.85</td>\n",
       "      <td>1.036433</td>\n",
       "    </tr>\n",
       "    <tr>\n",
       "      <th>18</th>\n",
       "      <td>0.90</td>\n",
       "      <td>1.281552</td>\n",
       "    </tr>\n",
       "    <tr>\n",
       "      <th>19</th>\n",
       "      <td>0.95</td>\n",
       "      <td>1.644854</td>\n",
       "    </tr>\n",
       "    <tr>\n",
       "      <th>20</th>\n",
       "      <td>1.00</td>\n",
       "      <td>inf</td>\n",
       "    </tr>\n",
       "  </tbody>\n",
       "</table>\n",
       "</div>"
      ],
      "text/plain": [
       "    Персентиль  Значение\n",
       "0         0.00      -inf\n",
       "1         0.05 -1.644854\n",
       "2         0.10 -1.281552\n",
       "3         0.15 -1.036433\n",
       "4         0.20 -0.841621\n",
       "5         0.25 -0.674490\n",
       "6         0.30 -0.524401\n",
       "7         0.35 -0.385320\n",
       "8         0.40 -0.253347\n",
       "9         0.45 -0.125661\n",
       "10        0.50  0.000000\n",
       "11        0.55  0.125661\n",
       "12        0.60  0.253347\n",
       "13        0.65  0.385320\n",
       "14        0.70  0.524401\n",
       "15        0.75  0.674490\n",
       "16        0.80  0.841621\n",
       "17        0.85  1.036433\n",
       "18        0.90  1.281552\n",
       "19        0.95  1.644854\n",
       "20        1.00       inf"
      ]
     },
     "execution_count": 4,
     "metadata": {},
     "output_type": "execute_result"
    }
   ],
   "source": [
    "start_ppfn = time.time()\n",
    "\n",
    "data = []\n",
    "quantiles_list = range(0, 101, 5)\n",
    "for el in quantiles_list:\n",
    "    data.append([el / 100, sts.norm.ppf(el / 100)])\n",
    " \n",
    "percentiles_df = pd.DataFrame(data, columns=['Персентиль', 'Значение'])\n",
    "end_ppfn = time.time()\n",
    "print(end_ppfn - start_ppfn)\n",
    "percentiles_df"
   ]
  },
  {
   "cell_type": "markdown",
   "id": "685aadc7",
   "metadata": {},
   "source": [
    "Таблица квантилей"
   ]
  },
  {
   "cell_type": "code",
   "execution_count": 5,
   "id": "eac7ef86",
   "metadata": {},
   "outputs": [
    {
     "name": "stdout",
     "output_type": "stream",
     "text": [
      "0.6341395378112793\n"
     ]
    },
    {
     "data": {
      "text/html": [
       "<div>\n",
       "<style scoped>\n",
       "    .dataframe tbody tr th:only-of-type {\n",
       "        vertical-align: middle;\n",
       "    }\n",
       "\n",
       "    .dataframe tbody tr th {\n",
       "        vertical-align: top;\n",
       "    }\n",
       "\n",
       "    .dataframe thead th {\n",
       "        text-align: right;\n",
       "    }\n",
       "</style>\n",
       "<table border=\"1\" class=\"dataframe\">\n",
       "  <thead>\n",
       "    <tr style=\"text-align: right;\">\n",
       "      <th></th>\n",
       "      <th>Квантили</th>\n",
       "    </tr>\n",
       "  </thead>\n",
       "  <tbody>\n",
       "    <tr>\n",
       "      <th>0.001</th>\n",
       "      <td>0.976962</td>\n",
       "    </tr>\n",
       "    <tr>\n",
       "      <th>0.011</th>\n",
       "      <td>0.985778</td>\n",
       "    </tr>\n",
       "    <tr>\n",
       "      <th>0.021</th>\n",
       "      <td>0.987225</td>\n",
       "    </tr>\n",
       "    <tr>\n",
       "      <th>0.031</th>\n",
       "      <td>0.988179</td>\n",
       "    </tr>\n",
       "    <tr>\n",
       "      <th>0.041</th>\n",
       "      <td>0.988811</td>\n",
       "    </tr>\n",
       "    <tr>\n",
       "      <th>...</th>\n",
       "      <td>...</td>\n",
       "    </tr>\n",
       "    <tr>\n",
       "      <th>0.951</th>\n",
       "      <td>0.997663</td>\n",
       "    </tr>\n",
       "    <tr>\n",
       "      <th>0.961</th>\n",
       "      <td>0.997749</td>\n",
       "    </tr>\n",
       "    <tr>\n",
       "      <th>0.971</th>\n",
       "      <td>0.997834</td>\n",
       "    </tr>\n",
       "    <tr>\n",
       "      <th>0.981</th>\n",
       "      <td>0.997968</td>\n",
       "    </tr>\n",
       "    <tr>\n",
       "      <th>0.991</th>\n",
       "      <td>0.998198</td>\n",
       "    </tr>\n",
       "  </tbody>\n",
       "</table>\n",
       "<p>100 rows × 1 columns</p>\n",
       "</div>"
      ],
      "text/plain": [
       "       Квантили\n",
       "0.001  0.976962\n",
       "0.011  0.985778\n",
       "0.021  0.987225\n",
       "0.031  0.988179\n",
       "0.041  0.988811\n",
       "...         ...\n",
       "0.951  0.997663\n",
       "0.961  0.997749\n",
       "0.971  0.997834\n",
       "0.981  0.997968\n",
       "0.991  0.998198\n",
       "\n",
       "[100 rows x 1 columns]"
      ]
     },
     "execution_count": 5,
     "metadata": {},
     "output_type": "execute_result"
    }
   ],
   "source": [
    "def shapiro_francia_st(company_list: list) -> float:\n",
    "    '''\n",
    "    Релизация статистики Шапиро - Франчиа\n",
    "    '''\n",
    "    company_list = sorted(company_list)\n",
    "    company_size, list_mean = len(company_list), np.mean(company_list)\n",
    "    x2 = np.sum(pow(company_list - list_mean, 2))\n",
    "    m = np.zeros(company_size)\n",
    "    for el in range(1, company_size + 1):\n",
    "        m[el - 1] = 4.91 * (((el - 0.375) / (company_size + 0.25)) ** 0.14 -\n",
    "                 ((company_size - el + 0.625) / (company_size + 0.25)) ** 0.14)\n",
    "    \n",
    "    shapiro_francia1 = pow(np.sum(m * company_list), 2)\n",
    "    shapiro_francia2 = x2 * np.sum(pow(m, 2))\n",
    "    shapiro_francia = shapiro_francia1 / shapiro_francia2\n",
    "    return shapiro_francia\n",
    "\n",
    "shapiro_franciat1= time.time() \n",
    "trials = 1000 \n",
    "sample_size = 258 \n",
    "\n",
    "normal_values = []\n",
    "for el in range(trials):\n",
    "    x = np.random.normal(size=sample_size) \n",
    "    normal_values.append(shapiro_francia_st(x)) \n",
    "    \n",
    "q_array = tuple(np.arange(0.001, 1.001, 0.01))\n",
    "quantiles_list = pd.DataFrame(normal_values, columns=['Квантили']).quantile(q_array)\n",
    "quantiles_list.to_csv(f\"Таблица квантилей.csv\") \n",
    "\n",
    "shapiro_franciat2= time.time() \n",
    "print(shapiro_franciat2 - shapiro_franciat1) \n",
    "\n",
    "quantiles_list"
   ]
  },
  {
   "cell_type": "code",
   "execution_count": 6,
   "id": "8afe06b0",
   "metadata": {},
   "outputs": [
    {
     "name": "stdout",
     "output_type": "stream",
     "text": [
      "KstestResult(statistic=0.034363029575462445, pvalue=0.18410026732229312)\n",
      "Альтернативная гипотеза в Колмогорове, она же в основном тесте с вер. 90%\n",
      "2.463144540786743\n"
     ]
    },
    {
     "data": {
      "image/png": "[encoded data removed]",
      "text/plain": [
       "<Figure size 432x288 with 1 Axes>"
      ]
     },
     "metadata": {
      "needs_background": "light"
     },
     "output_type": "display_data"
    }
   ],
   "source": [
    "def p_values(company_value: float) -> float:\n",
    "    '''\n",
    "    Расчет p-значения\n",
    "    '''\n",
    "    pv_w0 = shapiro_francia_st(np.random.normal(loc=0, scale=1, size=company_value)) \n",
    "    pv_mu = -1.2725 + 1.0521 * (np.log(np.log(company_value)) - np.log(company_value))\n",
    "    pv_sigma = -0.26758 * (np.log(np.log(company_value)) + 2 / np.log(company_value)) + 1.0308\n",
    "    p_value = 1 - sts.norm(loc=0, scale=1).cdf((np.log(1 - pv_w0) - pv_mu) / pv_sigma)\n",
    "    return p_value\n",
    "\n",
    "model_pt1 = time.time() \n",
    "\n",
    "pval_array = np.zeros(trials) \n",
    "for el in range(0, trials):\n",
    "    pval_array[el] = p_values(sample_size)\n",
    "    \n",
    "plt.hist(pval_array) \n",
    "plt.title(\"P - значения для модельных данных\")\n",
    "plt.grid(True) \n",
    "\n",
    "kolmogorov_t = kstest(pval_array,'uniform') \n",
    "\n",
    "if pval_array[1] < 0.01:\n",
    "    print(kolmogorov_t)\n",
    "    print('Альтернативная гипотеза в Колмогорове, она же в основном тесте с вер. 99%')\n",
    "if 0.01 <= pval_array[1] < 0.05:\n",
    "    print(kolmogorov_t)\n",
    "    print('Альтернативная гипотеза в Колмогорове, она же в основном тесте с вер. 95%')\n",
    "if 0.05 <= pval_array[1] < 0.1:\n",
    "    print(kolmogorov_t, )\n",
    "    print('Альтернативная гипотеза в Колмогорове, она же в основном тесте с вер. 90%')\n",
    "if pval_array[1] > 0.1:\n",
    "    print(kolmogorov_t)\n",
    "    print('Основаая гипотеза в Колмогорове, она же в основном тесте')\n",
    "\n",
    "model_pt2 = time.time() \n",
    "print(model_pt2 - model_pt1) "
   ]
  },
  {
   "cell_type": "markdown",
   "id": "eeabb202",
   "metadata": {},
   "source": [
    "Мощность критерия"
   ]
  },
  {
   "cell_type": "code",
   "execution_count": 7,
   "id": "546b55d5",
   "metadata": {},
   "outputs": [
    {
     "name": "stdout",
     "output_type": "stream",
     "text": [
      "(0.05, 0.003) (0.01, 0.009000000000000001)\n",
      "2.916069746017456\n"
     ]
    }
   ],
   "source": [
    "powert1 = time.time()\n",
    "\n",
    "pw_list = []\n",
    "for el in range(trials):\n",
    "    pw_list.append(shapiro_francia_st(np.random.standard_t(4, size=sample_size)))\n",
    "\n",
    "p_list = [p_values(sample_size) for i in range(trials)]    \n",
    "\n",
    "ecdf_power = ECDF(p_list)\n",
    "# создадим словарь со значением мощности при 0.5% и 0.1%\n",
    "power_dict = {0.05: ecdf_power(0.005),\n",
    "              0.01: ecdf_power(0.01)}\n",
    "print(*power_dict.items())\n",
    "\n",
    "powert2 = time.time()\n",
    "print(powert2 - powert1) "
   ]
  },
  {
   "cell_type": "markdown",
   "id": "70ee71c5",
   "metadata": {},
   "source": [
    "Реальные р - значения"
   ]
  },
  {
   "cell_type": "code",
   "execution_count": 8,
   "id": "80f66a48",
   "metadata": {},
   "outputs": [],
   "source": [
    "def log_return(moex_ticker: str, x: int) -> list:\n",
    "    '''\n",
    "    Расчет логдоходности\n",
    "    '''\n",
    "    log_return_list, company = list(), company_tables(moex_ticker)\n",
    "    company['Логдоходность'] = np.log(company['Adj Close'])\n",
    "    for year in list(company['Date'].dt.year.unique()):\n",
    "        t_d_file = pd.read_csv(f'Количество торговых дней.csv', sep=',')\n",
    "        num = (t_d_file[str(year)][x])\n",
    "        z = company['Логдоходность'][company['Date'] <= str(year) +'-12-31'].size - (num + 1)\n",
    "        log_return_list.append((company['Логдоходность'][company['Date'] <= str(year) + '-12-31'])[z:].kurtosis())\n",
    "    return log_return_list \n",
    "\n",
    "\n",
    "def sf_prices(moex_ticker: str) -> list:\n",
    "    criteria_prices, company = list(), company_tables(moex_ticker)\n",
    "    for year in list(company['Date'].dt.year.unique()):\n",
    "        criteria_prices.append(shapiro_francia_st(company['Adj Close'][company['Date'] <= str(year) + '-12-31']))\n",
    "    return criteria_prices\n",
    "\n"
   ]
  },
  {
   "cell_type": "code",
   "execution_count": 9,
   "id": "8e817b99",
   "metadata": {},
   "outputs": [
    {
     "name": "stdout",
     "output_type": "stream",
     "text": [
      "KstestResult(statistic=0.034363029575462445, pvalue=0.18410026732229312)\n",
      "Альтернативная гипотеза в Колмогорове, она же тесте с вер. 90%\n",
      "0.9478299617767334\n"
     ]
    },
    {
     "data": {
      "image/png": "[encoded data removed]",
      "text/plain": [
       "<Figure size 432x288 with 1 Axes>"
      ]
     },
     "metadata": {
      "needs_background": "light"
     },
     "output_type": "display_data"
    }
   ],
   "source": [
    "def real_pvalues(logreturn, shapiro_francia):\n",
    "    '''Расчет p значений для реальных данных'''\n",
    "    p_real_list = []\n",
    "    for el in logreturn:\n",
    "        el1 = 0\n",
    "        for el2 in shapiro_francia:\n",
    "            if el > el2:\n",
    "               el1 += 1\n",
    "            p_real_list.append(round(el1 / len(shapiro_francia), 3))\n",
    "    return p_real_list\n",
    "\n",
    "\n",
    "real_p_t1 = time.time() \n",
    "user_companies = \"GAZP SBER LKOH GMKN NVTK ROSN POLY PLZL MGNT TATN ALRS NLMK\".split()\n",
    "\n",
    "PV_for_companies = []\n",
    "for i in user_companies:\n",
    "    log, sh = log_return(i, user_companies.index(i)), sf_prices(i)\n",
    "    for el in real_pvalues(log, sh):\n",
    "        PV_for_companies.append(el)\n",
    "        \n",
    "plt.hist(PV_for_companies)\n",
    "plt.title(\"P - значения для реальных данных\")\n",
    "plt.grid(True)\n",
    "\n",
    "if pval_array[1] < 0.01:\n",
    "    print(kolmogorov_t)\n",
    "    print('Альтернативная гипотеза в Колмогорове, она же в основном тесте с вер. 99%')\n",
    "if 0.01 <= pval_array[1] < 0.05:\n",
    "    print(kolmogorov_t)\n",
    "    print('Альтернативная гипотеза в Колмогорове, она же в основном тесте с вер. 95%')\n",
    "if 0.05 <= pval_array[1] < 0.1:\n",
    "    print(kolmogorov_t)\n",
    "    print('Альтернативная гипотеза в Колмогорове, она же тесте с вер. 90%')\n",
    "if pval_array[1] > 0.1:\n",
    "    print(kolmogorov_t)\n",
    "    print('Основная гипотеза в Колмогорове, она же в основном тесте')\n",
    "\n",
    "real_p_t2 = time.time() \n",
    "print(real_p_t2 - real_p_t1)"
   ]
  },
  {
   "cell_type": "code",
   "execution_count": null,
   "id": "b026603f",
   "metadata": {},
   "outputs": [],
   "source": []
  }
 ],
 "metadata": {
  "kernelspec": {
   "display_name": "Python 3 (ipykernel)",
   "language": "python",
   "name": "python3"
  },
  "language_info": {
   "codemirror_mode": {
    "name": "ipython",
    "version": 3
   },
   "file_extension": ".py",
   "mimetype": "text/x-python",
   "name": "python",
   "nbconvert_exporter": "python",
   "pygments_lexer": "ipython3",
   "version": "3.9.12"
  }
 },
 "nbformat": 4,
 "nbformat_minor": 5
}
